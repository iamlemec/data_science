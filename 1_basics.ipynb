{
 "cells": [
  {
   "cell_type": "markdown",
   "metadata": {
    "tags": []
   },
   "source": [
    "# Intro"
   ]
  },
  {
   "cell_type": "markdown",
   "metadata": {},
   "source": [
    "Open source project started by Guido van Rossum in 1991.\n",
    "\n",
    "Computers are cheap, your time is expensive!\n",
    "\n",
    "Data scientists spend 50-80 percent of their time preparing data.\n",
    "\n",
    "\"Premature optimization is the root of all evil\" -- Donald Knuth, inventor of LaTeX, and many other things\n",
    "\n",
    "Huge and expanding ecosystem of packages for wide variety of tasks\n",
    "\n",
    "Part of the culture to provide usable examples rather than just lengthy documentation\n",
    "\n",
    "Big on \"idioms\" and doing things \"Pythonically\"\n",
    "\n",
    "Duck Typing! If it walks like a duck and quacks like a duck, then... treat it like a duck"
   ]
  },
  {
   "cell_type": "markdown",
   "metadata": {},
   "source": [
    "# Python Basics"
   ]
  },
  {
   "cell_type": "markdown",
   "metadata": {},
   "source": [
    "## Printing"
   ]
  },
  {
   "cell_type": "code",
   "execution_count": 1,
   "metadata": {},
   "outputs": [
    {
     "name": "stdout",
     "output_type": "stream",
     "text": [
      "Hello World!\n"
     ]
    }
   ],
   "source": [
    "print('Hello World!')"
   ]
  },
  {
   "cell_type": "code",
   "execution_count": 2,
   "metadata": {},
   "outputs": [
    {
     "name": "stdout",
     "output_type": "stream",
     "text": [
      "5\n"
     ]
    }
   ],
   "source": [
    "print(5)"
   ]
  },
  {
   "cell_type": "code",
   "execution_count": 3,
   "metadata": {},
   "outputs": [
    {
     "name": "stdout",
     "output_type": "stream",
     "text": [
      "5 6 foo\n"
     ]
    }
   ],
   "source": [
    "print(5, 6, 'foo')"
   ]
  },
  {
   "cell_type": "code",
   "execution_count": 4,
   "metadata": {},
   "outputs": [
    {
     "data": {
      "text/plain": [
       "'hi'"
      ]
     },
     "execution_count": 4,
     "metadata": {},
     "output_type": "execute_result"
    }
   ],
   "source": [
    "'hi' # by default outputs last line of cell"
   ]
  },
  {
   "cell_type": "markdown",
   "metadata": {},
   "source": [
    "## Built-in Types"
   ]
  },
  {
   "cell_type": "markdown",
   "metadata": {},
   "source": [
    "### Tuples (tuple)"
   ]
  },
  {
   "cell_type": "code",
   "execution_count": 5,
   "metadata": {},
   "outputs": [
    {
     "data": {
      "text/plain": [
       "(1, 2)"
      ]
     },
     "execution_count": 5,
     "metadata": {},
     "output_type": "execute_result"
    }
   ],
   "source": [
    "a = (1, 2)\n",
    "a"
   ]
  },
  {
   "cell_type": "code",
   "execution_count": 6,
   "metadata": {},
   "outputs": [
    {
     "name": "stdout",
     "output_type": "stream",
     "text": [
      "1\n",
      "2\n"
     ]
    }
   ],
   "source": [
    "b, c = a # this is called \"unpacking\"\n",
    "print(b)\n",
    "print(c)"
   ]
  },
  {
   "cell_type": "markdown",
   "metadata": {},
   "source": [
    "### Lists (list)"
   ]
  },
  {
   "cell_type": "code",
   "execution_count": 7,
   "metadata": {},
   "outputs": [
    {
     "name": "stdout",
     "output_type": "stream",
     "text": [
      "[1, 2, 3]\n"
     ]
    }
   ],
   "source": [
    "a = [1, 2, 3]\n",
    "print(a)"
   ]
  },
  {
   "cell_type": "code",
   "execution_count": 8,
   "metadata": {},
   "outputs": [
    {
     "name": "stdout",
     "output_type": "stream",
     "text": [
      "[1, 2, 3, 5, 6, 7]\n",
      "[1, 2, 3, 5, 6, 7, 8, 9, 10]\n"
     ]
    }
   ],
   "source": [
    "a += [5, 6, 7] # adding is appending/concatenating\n",
    "print(a)\n",
    "b = a + [8, 9, 10]\n",
    "print(b)"
   ]
  },
  {
   "cell_type": "code",
   "execution_count": 9,
   "metadata": {},
   "outputs": [
    {
     "name": "stdout",
     "output_type": "stream",
     "text": [
      "[1, 2, 3, 5, 6, 7, 8]\n"
     ]
    }
   ],
   "source": [
    "a.append(8)\n",
    "print(a)"
   ]
  },
  {
   "cell_type": "code",
   "execution_count": 10,
   "metadata": {},
   "outputs": [
    {
     "name": "stdout",
     "output_type": "stream",
     "text": [
      "[1, 2, 3, 5, 6, 7, 8, 1, 2, 3, 5, 6, 7, 8, 1, 2, 3, 5, 6, 7, 8]\n"
     ]
    }
   ],
   "source": [
    "b = 3*a # multiplying is repeating\n",
    "print(b)"
   ]
  },
  {
   "cell_type": "code",
   "execution_count": 11,
   "metadata": {},
   "outputs": [
    {
     "data": {
      "text/plain": [
       "[(0, 5), (1, 6), (2, 7), (3, 8), (4, 9)]"
      ]
     },
     "execution_count": 11,
     "metadata": {},
     "output_type": "execute_result"
    }
   ],
   "source": [
    "x = range(5)\n",
    "y = range(5, 10)\n",
    "list(zip(x, y))"
   ]
  },
  {
   "cell_type": "markdown",
   "metadata": {},
   "source": [
    "### Dictionaries (dict)"
   ]
  },
  {
   "cell_type": "code",
   "execution_count": 12,
   "metadata": {},
   "outputs": [
    {
     "name": "stdout",
     "output_type": "stream",
     "text": [
      "{1: 2, 2: 3, 3: 10, 4: -5}\n"
     ]
    }
   ],
   "source": [
    "# dictionaries are a general type of mapping\n",
    "d = {1: 2, 2: 3, 3: 10, 4: -5} # 1->2, 2->3, 3->10, 4->-5\n",
    "print(d)"
   ]
  },
  {
   "cell_type": "code",
   "execution_count": 13,
   "metadata": {},
   "outputs": [
    {
     "data": {
      "text/plain": [
       "10"
      ]
     },
     "execution_count": 13,
     "metadata": {},
     "output_type": "execute_result"
    }
   ],
   "source": [
    "d[3] # access with square brackets"
   ]
  },
  {
   "cell_type": "code",
   "execution_count": 14,
   "metadata": {},
   "outputs": [
    {
     "name": "stdout",
     "output_type": "stream",
     "text": [
      "{'firstname': 'doug', 'lastname': 'hanley', 'city': 'pittsburgh'}\n",
      "{'firstname': 'roee', 'lastname': 'teper'}\n"
     ]
    }
   ],
   "source": [
    "d = {'firstname': 'doug', 'lastname': 'hanley', 'city': 'pittsburgh'}\n",
    "d1 = {'firstname': 'roee', 'lastname': 'teper'}\n",
    "print(d)\n",
    "print(d1)"
   ]
  },
  {
   "cell_type": "code",
   "execution_count": 15,
   "metadata": {},
   "outputs": [
    {
     "name": "stdout",
     "output_type": "stream",
     "text": [
      "pittsburgh\n"
     ]
    }
   ],
   "source": [
    "print(d['city']) # 'pittsburgh'\n",
    "# print(d1['city']) # this will error"
   ]
  },
  {
   "cell_type": "code",
   "execution_count": 16,
   "metadata": {},
   "outputs": [
    {
     "name": "stdout",
     "output_type": "stream",
     "text": [
      "False\n",
      "None\n",
      "unknown\n"
     ]
    }
   ],
   "source": [
    "print('city' in d1) # False\n",
    "print(d1.get('city')) # None\n",
    "print(d1.get('city', 'unknown')) # 'unknown'"
   ]
  },
  {
   "cell_type": "markdown",
   "metadata": {},
   "source": [
    "### Strings"
   ]
  },
  {
   "cell_type": "code",
   "execution_count": 17,
   "metadata": {},
   "outputs": [
    {
     "name": "stdout",
     "output_type": "stream",
     "text": [
      "hello world\n"
     ]
    }
   ],
   "source": [
    "s = 'hello world'\n",
    "print(s)"
   ]
  },
  {
   "cell_type": "code",
   "execution_count": 18,
   "metadata": {},
   "outputs": [
    {
     "name": "stdout",
     "output_type": "stream",
     "text": [
      "hello world again\n"
     ]
    }
   ],
   "source": [
    "# strings are like lists of characters\n",
    "s1 = s + ' again' # concatenate with addition\n",
    "print(s1)"
   ]
  },
  {
   "cell_type": "code",
   "execution_count": 19,
   "metadata": {},
   "outputs": [
    {
     "name": "stdout",
     "output_type": "stream",
     "text": [
      "hello worldhello worldhello world\n"
     ]
    }
   ],
   "source": [
    "print(3*s) # repeat with multiplication"
   ]
  },
  {
   "cell_type": "code",
   "execution_count": 20,
   "metadata": {},
   "outputs": [
    {
     "data": {
      "text/plain": [
       "'hello world hello world hello world'"
      ]
     },
     "execution_count": 20,
     "metadata": {},
     "output_type": "execute_result"
    }
   ],
   "source": [
    "' '.join(3*[s])"
   ]
  },
  {
   "cell_type": "code",
   "execution_count": 21,
   "metadata": {},
   "outputs": [
    {
     "name": "stdout",
     "output_type": "stream",
     "text": [
      "hello world hello world hello world\n",
      "hello world\n",
      "hello, world\n",
      "hello|world\n"
     ]
    }
   ],
   "source": [
    "# but what about spacing?\n",
    "print(' '.join(3*[s]))\n",
    "print(' '.join(['hello', 'world'])) # joins a list of string with given separator\n",
    "print(', '.join(['hello', 'world']))\n",
    "print('|'.join(['hello', 'world']))"
   ]
  },
  {
   "cell_type": "code",
   "execution_count": 22,
   "metadata": {},
   "outputs": [
    {
     "name": "stdout",
     "output_type": "stream",
     "text": [
      "5 - test\n",
      "5 - test\n",
      "5 - test\n",
      "5 - test\n"
     ]
    }
   ],
   "source": [
    "# advanced printing\n",
    "x = 5\n",
    "s = 'test'\n",
    "print('%d - %s' % (x, s)) # c style printing\n",
    "print('{} - {}'.format(x, s)) # format style printing\n",
    "print('{:d} - {:s}'.format(x, s)) # format style printing (with types)\n",
    "print(f'{x} - {s}') # f-string printing (new in python 3.6!)"
   ]
  },
  {
   "cell_type": "markdown",
   "metadata": {},
   "source": [
    "## Control Flow"
   ]
  },
  {
   "cell_type": "markdown",
   "metadata": {},
   "source": [
    "### Conditional"
   ]
  },
  {
   "cell_type": "code",
   "execution_count": 23,
   "metadata": {},
   "outputs": [
    {
     "name": "stdout",
     "output_type": "stream",
     "text": [
      "doubling\n",
      "12\n"
     ]
    }
   ],
   "source": [
    "# conditional\n",
    "a = 6\n",
    "if (a < 10) and (a > 3):\n",
    "    a *= 2\n",
    "    print('doubling')\n",
    "print(a)"
   ]
  },
  {
   "cell_type": "markdown",
   "metadata": {},
   "source": [
    "### Looping"
   ]
  },
  {
   "cell_type": "code",
   "execution_count": 24,
   "metadata": {},
   "outputs": [
    {
     "name": "stdout",
     "output_type": "stream",
     "text": [
      "5\n",
      "6\n",
      "7\n",
      "8\n",
      "9\n"
     ]
    }
   ],
   "source": [
    "# basic loop\n",
    "for x in [5, 6, 7, 8, 9]:\n",
    "    print(x)"
   ]
  },
  {
   "cell_type": "code",
   "execution_count": 25,
   "metadata": {},
   "outputs": [
    {
     "name": "stdout",
     "output_type": "stream",
     "text": [
      "0\n",
      "1\n",
      "2\n",
      "3\n",
      "4\n"
     ]
    }
   ],
   "source": [
    "# common loop\n",
    "for x in range(5):\n",
    "    print(x)"
   ]
  },
  {
   "cell_type": "code",
   "execution_count": 26,
   "metadata": {},
   "outputs": [
    {
     "name": "stdout",
     "output_type": "stream",
     "text": [
      "0 9\n",
      "1 8\n",
      "2 7\n",
      "3 6\n",
      "4 5\n"
     ]
    }
   ],
   "source": [
    "# a useful idiom\n",
    "for i, x in enumerate(reversed(range(5, 10))):\n",
    "    print(i, x)"
   ]
  },
  {
   "cell_type": "markdown",
   "metadata": {},
   "source": [
    "### List Comprehensions"
   ]
  },
  {
   "cell_type": "code",
   "execution_count": 27,
   "metadata": {},
   "outputs": [
    {
     "name": "stdout",
     "output_type": "stream",
     "text": [
      "range(0, 10)\n",
      "[0, 1, 2, 3, 4, 5, 6, 7, 8, 9]\n"
     ]
    }
   ],
   "source": [
    "a = range(10)\n",
    "print(a) # hmm - it's an iterator\n",
    "print(list(a))"
   ]
  },
  {
   "cell_type": "code",
   "execution_count": 28,
   "metadata": {},
   "outputs": [
    {
     "name": "stdout",
     "output_type": "stream",
     "text": [
      "[0, 1, 4, 9, 16, 25, 36, 49, 64, 81]\n"
     ]
    }
   ],
   "source": [
    "b = [x**2 for x in a] # like an inline loop\n",
    "print(b)"
   ]
  },
  {
   "cell_type": "code",
   "execution_count": 29,
   "metadata": {},
   "outputs": [
    {
     "name": "stdout",
     "output_type": "stream",
     "text": [
      "[0, 4, 16, 36, 64]\n"
     ]
    }
   ],
   "source": [
    "b = [x**2 for x in a if x % 2 == 0] # only if even\n",
    "print(b)"
   ]
  },
  {
   "cell_type": "code",
   "execution_count": 30,
   "metadata": {},
   "outputs": [
    {
     "name": "stdout",
     "output_type": "stream",
     "text": [
      "{'firstname': 'SEWON', 'lastname': 'HUR'}\n",
      "{'firstname': 'SEWON', 'lastname': 'HUR'}\n"
     ]
    }
   ],
   "source": [
    "# works with dictionaries too!\n",
    "d = {'firstname': 'sewon', 'lastname': 'hur'}\n",
    "d1 = {k: d[k].upper() for k in d}\n",
    "print(d1)\n",
    "d1 = {k: v.upper() for k, v in d.items()}\n",
    "print(d1)"
   ]
  },
  {
   "cell_type": "code",
   "execution_count": 31,
   "metadata": {},
   "outputs": [
    {
     "name": "stdout",
     "output_type": "stream",
     "text": [
      "[(0, 10), (1, 11), (2, 12), (3, 13), (4, 14), (5, 15), (6, 16), (7, 17), (8, 18), (9, 19)]\n",
      "[0, 11, 24, 39, 56, 75, 96, 119, 144, 171]\n"
     ]
    }
   ],
   "source": [
    "# zipping two lists\n",
    "a = range(10)\n",
    "b = range(10, 20)\n",
    "c1 = list(zip(a, b))\n",
    "c2 = [x*y for x, y in zip(a, b)]\n",
    "print(c1)\n",
    "print(c2)"
   ]
  },
  {
   "cell_type": "markdown",
   "metadata": {},
   "source": [
    "## Functions"
   ]
  },
  {
   "cell_type": "code",
   "execution_count": 32,
   "metadata": {},
   "outputs": [
    {
     "data": {
      "text/plain": [
       "15"
      ]
     },
     "execution_count": 32,
     "metadata": {},
     "output_type": "execute_result"
    }
   ],
   "source": [
    "# basic function (indentation matters)\n",
    "def multiply(x, y):\n",
    "    return x*y\n",
    "multiply(5, 3)"
   ]
  },
  {
   "cell_type": "code",
   "execution_count": 33,
   "metadata": {},
   "outputs": [
    {
     "name": "stdout",
     "output_type": "stream",
     "text": [
      "5\n",
      "3\n"
     ]
    }
   ],
   "source": [
    "# keyword arguments with default value (% is modulus)\n",
    "def multiply_mod(x, y, mod=10):\n",
    "    z = x*y\n",
    "    return z % mod\n",
    "print(multiply_mod(5, 3))\n",
    "print(multiply_mod(5, 3, mod=12))"
   ]
  },
  {
   "cell_type": "code",
   "execution_count": 34,
   "metadata": {},
   "outputs": [
    {
     "name": "stdout",
     "output_type": "stream",
     "text": [
      "test:\n",
      "op = add\n",
      "direction = up\n",
      "name = joe\n",
      "level = 7\n"
     ]
    }
   ],
   "source": [
    "# arbirtrary default values: up, direction, name, level could have been anything\n",
    "def run(cmd, **opts):\n",
    "    print('\\n'.join([f'{cmd}:'] + [f'{k} = {v}' for k, v in opts.items()]))\n",
    "run('test', op='add', direction='up', name='joe', level=7)"
   ]
  },
  {
   "cell_type": "code",
   "execution_count": 35,
   "metadata": {},
   "outputs": [
    {
     "name": "stdout",
     "output_type": "stream",
     "text": [
      "{'op': 'add', 'direction': 'up', 'name': 'joe', 'level': 7}\n"
     ]
    }
   ],
   "source": [
    "# here's how it works\n",
    "def func(**kwargs):\n",
    "    print(kwargs)\n",
    "func(op='add', direction='up', name='joe', level=7)"
   ]
  },
  {
   "cell_type": "code",
   "execution_count": 36,
   "metadata": {},
   "outputs": [
    {
     "name": "stdout",
     "output_type": "stream",
     "text": [
      "6\n",
      "6\n"
     ]
    }
   ],
   "source": [
    "# variable length arguments\n",
    "def func(*args):\n",
    "    return sum(args)\n",
    "x1 = func(*range(4))\n",
    "x2 = func(0, 1, 2, 3)\n",
    "print(x1)\n",
    "print(x2)"
   ]
  },
  {
   "cell_type": "markdown",
   "metadata": {},
   "source": [
    "### Lambda functions"
   ]
  },
  {
   "cell_type": "code",
   "execution_count": 37,
   "metadata": {},
   "outputs": [
    {
     "name": "stdout",
     "output_type": "stream",
     "text": [
      "5\n",
      "28\n"
     ]
    }
   ],
   "source": [
    "ident = lambda x: x\n",
    "mult = lambda x, y: x*y\n",
    "print(ident(5))\n",
    "print(mult(4, 7))"
   ]
  },
  {
   "cell_type": "code",
   "execution_count": 38,
   "metadata": {},
   "outputs": [],
   "source": [
    "mult5 = lambda x: mult(5, x)"
   ]
  },
  {
   "cell_type": "markdown",
   "metadata": {},
   "source": [
    "### Functions of functions"
   ]
  },
  {
   "cell_type": "code",
   "execution_count": 39,
   "metadata": {},
   "outputs": [
    {
     "name": "stdout",
     "output_type": "stream",
     "text": [
      "-10 -3\n",
      "2 2\n"
     ]
    }
   ],
   "source": [
    "def bounder(f, a, b):\n",
    "    def fb(x):\n",
    "        return max(a, min(b, f(x)))\n",
    "    return fb\n",
    "g = lambda x: 2*x\n",
    "g1 = bounder(g, -3, 3)\n",
    "print(g(-5), g1(-5))\n",
    "print(g(1), g1(1))"
   ]
  },
  {
   "cell_type": "code",
   "execution_count": 40,
   "metadata": {},
   "outputs": [
    {
     "name": "stdout",
     "output_type": "stream",
     "text": [
      "-30\n",
      "-30\n"
     ]
    }
   ],
   "source": [
    "def negate(f):\n",
    "    def fn(x):\n",
    "        return -f(x)\n",
    "    return fn\n",
    "\n",
    "# this is called a decorator\n",
    "@negate\n",
    "def h1(x):\n",
    "    return 3*x\n",
    "print(h1(10))\n",
    "\n",
    "# this is equivalent to\n",
    "def h(x):\n",
    "    return 3*x\n",
    "h2 = negate(h)\n",
    "print(h2(10))"
   ]
  },
  {
   "cell_type": "markdown",
   "metadata": {},
   "source": [
    "# Modules"
   ]
  },
  {
   "cell_type": "code",
   "execution_count": 41,
   "metadata": {},
   "outputs": [],
   "source": [
    "# get acces to more functionality beyond builtins\n",
    "import re # regular expressions"
   ]
  },
  {
   "cell_type": "code",
   "execution_count": 42,
   "metadata": {},
   "outputs": [
    {
     "data": {
      "text/plain": [
       "'their social is xxx-xx-xxxx, fyi'"
      ]
     },
     "execution_count": 42,
     "metadata": {},
     "output_type": "execute_result"
    }
   ],
   "source": [
    "re.sub(r'[0-9]{3}-[0-9]{2}-[0-9]{4}', 'xxx-xx-xxxx', 'their social is 123-45-6789, fyi')"
   ]
  },
  {
   "cell_type": "code",
   "execution_count": 43,
   "metadata": {},
   "outputs": [
    {
     "name": "stdout",
     "output_type": "stream",
     "text": [
      "whats with all this silly punctuation \n"
     ]
    }
   ],
   "source": [
    "s = \"what's with;all, this--silly punctuation!?\"\n",
    "s1 = re.sub(r'[^a-z\\']', ' ', s)\n",
    "s1 = re.sub(r'\\'', '', s1)\n",
    "s1 = re.sub(r' +', ' ', s1)\n",
    "print(s1)"
   ]
  },
  {
   "cell_type": "code",
   "execution_count": 44,
   "metadata": {},
   "outputs": [],
   "source": [
    "from collections import defaultdict"
   ]
  },
  {
   "cell_type": "code",
   "execution_count": 45,
   "metadata": {},
   "outputs": [
    {
     "data": {
      "text/plain": [
       "['the', 'sly', 'fox', 'jumped', 'over', 'the', 'lazy', 'dog']"
      ]
     },
     "execution_count": 45,
     "metadata": {},
     "output_type": "execute_result"
    }
   ],
   "source": [
    "'the sly fox jumped over the lazy dog'.split()"
   ]
  },
  {
   "cell_type": "code",
   "execution_count": 46,
   "metadata": {},
   "outputs": [
    {
     "data": {
      "text/plain": [
       "defaultdict(list,\n",
       "            {3: ['the', 'sly', 'fox', 'the', 'dog'],\n",
       "             6: ['jumped'],\n",
       "             4: ['over', 'lazy']})"
      ]
     },
     "execution_count": 46,
     "metadata": {},
     "output_type": "execute_result"
    }
   ],
   "source": [
    "s = 'the sly fox jumped over the lazy dog'\n",
    "d = defaultdict(list)\n",
    "for w in s.split():\n",
    "    d[len(w)] += [w]\n",
    "d"
   ]
  },
  {
   "cell_type": "code",
   "execution_count": 47,
   "metadata": {},
   "outputs": [
    {
     "data": {
      "text/plain": [
       "{3: 5, 6: 1, 4: 2}"
      ]
     },
     "execution_count": 47,
     "metadata": {},
     "output_type": "execute_result"
    }
   ],
   "source": [
    "{k: len(v) for k, v in d.items()}"
   ]
  },
  {
   "cell_type": "markdown",
   "metadata": {},
   "source": [
    "# Numerics"
   ]
  },
  {
   "cell_type": "code",
   "execution_count": 48,
   "metadata": {},
   "outputs": [],
   "source": [
    "import numpy as np"
   ]
  },
  {
   "cell_type": "code",
   "execution_count": 49,
   "metadata": {},
   "outputs": [
    {
     "data": {
      "text/plain": [
       "array([1., 1., 1., 1., 1., 1., 1., 1., 1., 1.])"
      ]
     },
     "execution_count": 49,
     "metadata": {},
     "output_type": "execute_result"
    }
   ],
   "source": [
    "np.ones(10) # similar to matlab"
   ]
  },
  {
   "cell_type": "code",
   "execution_count": 50,
   "metadata": {},
   "outputs": [
    {
     "name": "stdout",
     "output_type": "stream",
     "text": [
      "[ 5  7  9 11 13 15 17 19 21]\n"
     ]
    }
   ],
   "source": [
    "# ranges\n",
    "a = np.arange(5, 22, 2)\n",
    "print(a)"
   ]
  },
  {
   "cell_type": "code",
   "execution_count": 51,
   "metadata": {},
   "outputs": [
    {
     "name": "stdout",
     "output_type": "stream",
     "text": [
      "[0 1 2 3 4 5 6 7 8 9]\n",
      "0\n",
      "[3 4 5 6 7 8 9]\n",
      "[0 1 2 3 4 5 6 7 8]\n",
      "[3 4]\n"
     ]
    }
   ],
   "source": [
    "# indexing\n",
    "a = np.arange(10)\n",
    "print(a)\n",
    "print(a[0]) # zero indexed!\n",
    "print(a[3:]) # no 'end' needed\n",
    "print(a[:-1]) # negatives index from end\n",
    "print(a[3:5]) # second index is non-inclusive"
   ]
  },
  {
   "cell_type": "code",
   "execution_count": 52,
   "metadata": {},
   "outputs": [],
   "source": [
    "a = np.arange(10)\n",
    "b = np.arange(10)"
   ]
  },
  {
   "cell_type": "code",
   "execution_count": 53,
   "metadata": {},
   "outputs": [
    {
     "data": {
      "text/plain": [
       "array([[0],\n",
       "       [1],\n",
       "       [2],\n",
       "       [3],\n",
       "       [4],\n",
       "       [5],\n",
       "       [6],\n",
       "       [7],\n",
       "       [8],\n",
       "       [9]])"
      ]
     },
     "execution_count": 53,
     "metadata": {},
     "output_type": "execute_result"
    }
   ],
   "source": [
    "a[:, None]"
   ]
  },
  {
   "cell_type": "code",
   "execution_count": 54,
   "metadata": {},
   "outputs": [
    {
     "data": {
      "text/plain": [
       "array([[0, 1, 2, 3, 4, 5, 6, 7, 8, 9]])"
      ]
     },
     "execution_count": 54,
     "metadata": {},
     "output_type": "execute_result"
    }
   ],
   "source": [
    "b[None, :]"
   ]
  },
  {
   "cell_type": "code",
   "execution_count": 55,
   "metadata": {},
   "outputs": [
    {
     "data": {
      "text/plain": [
       "array([[ 0,  1,  2,  3,  4,  5,  6,  7,  8,  9],\n",
       "       [ 1,  2,  3,  4,  5,  6,  7,  8,  9, 10],\n",
       "       [ 2,  3,  4,  5,  6,  7,  8,  9, 10, 11],\n",
       "       [ 3,  4,  5,  6,  7,  8,  9, 10, 11, 12],\n",
       "       [ 4,  5,  6,  7,  8,  9, 10, 11, 12, 13],\n",
       "       [ 5,  6,  7,  8,  9, 10, 11, 12, 13, 14],\n",
       "       [ 6,  7,  8,  9, 10, 11, 12, 13, 14, 15],\n",
       "       [ 7,  8,  9, 10, 11, 12, 13, 14, 15, 16],\n",
       "       [ 8,  9, 10, 11, 12, 13, 14, 15, 16, 17],\n",
       "       [ 9, 10, 11, 12, 13, 14, 15, 16, 17, 18]])"
      ]
     },
     "execution_count": 55,
     "metadata": {},
     "output_type": "execute_result"
    }
   ],
   "source": [
    "# adding dimensions with indexing\n",
    "a[:, None] + b[None, :]"
   ]
  },
  {
   "cell_type": "code",
   "execution_count": 56,
   "metadata": {},
   "outputs": [
    {
     "data": {
      "text/plain": [
       "array([ 0,  1,  4,  9, 16, 25, 36, 49, 64, 81])"
      ]
     },
     "execution_count": 56,
     "metadata": {},
     "output_type": "execute_result"
    }
   ],
   "source": [
    "# multiplication is element-wise by default (like .* in matlab)\n",
    "np.arange(10) * np.arange(10)"
   ]
  },
  {
   "cell_type": "code",
   "execution_count": 57,
   "metadata": {},
   "outputs": [
    {
     "data": {
      "text/plain": [
       "array([[ 50,  55,  60,  65,  70,  75,  80,  85,  90,  95],\n",
       "       [ 60,  66,  72,  78,  84,  90,  96, 102, 108, 114],\n",
       "       [ 70,  77,  84,  91,  98, 105, 112, 119, 126, 133],\n",
       "       [ 80,  88,  96, 104, 112, 120, 128, 136, 144, 152],\n",
       "       [ 90,  99, 108, 117, 126, 135, 144, 153, 162, 171],\n",
       "       [100, 110, 120, 130, 140, 150, 160, 170, 180, 190],\n",
       "       [110, 121, 132, 143, 154, 165, 176, 187, 198, 209],\n",
       "       [120, 132, 144, 156, 168, 180, 192, 204, 216, 228],\n",
       "       [130, 143, 156, 169, 182, 195, 208, 221, 234, 247],\n",
       "       [140, 154, 168, 182, 196, 210, 224, 238, 252, 266]])"
      ]
     },
     "execution_count": 57,
     "metadata": {},
     "output_type": "execute_result"
    }
   ],
   "source": [
    "# broadcasting is a game changer\n",
    "np.arange(10, 20)[None, :]*np.arange(5,15)[:, None]"
   ]
  },
  {
   "cell_type": "code",
   "execution_count": 58,
   "metadata": {},
   "outputs": [
    {
     "name": "stdout",
     "output_type": "stream",
     "text": [
      "[[ -3.37476327   2.18609539   3.45251389  -1.3939557    0.03771619]\n",
      " [  7.93682564  -8.2009052   -6.54125667   4.31180618   2.67643701]\n",
      " [  2.52293804  -0.7585812   -0.71890409   0.66225718  -1.28238567]\n",
      " [-11.81841665  13.37186904   7.60780962  -7.8234774   -2.15266291]\n",
      " [  3.38425153  -4.41772734  -2.13314226   3.74579618   0.57018584]]\n",
      "[[ 1.00000000e+00  1.15221416e-15  1.13743352e-15 -1.68431321e-16\n",
      "  -3.66096204e-16]\n",
      " [-1.21180898e-15  1.00000000e+00  1.44601812e-15 -1.06555204e-16\n",
      "  -1.62129729e-16]\n",
      " [ 2.27640328e-17 -3.51000003e-17  1.00000000e+00  2.29017387e-16\n",
      "   8.64211712e-18]\n",
      " [ 9.65849401e-17 -6.14162547e-16  4.49697375e-17  1.00000000e+00\n",
      "  -1.06570210e-17]\n",
      " [ 3.61515929e-16 -6.34255622e-16  8.54669607e-16  8.29765332e-16\n",
      "   1.00000000e+00]]\n"
     ]
    }
   ],
   "source": [
    "m = np.random.rand(5, 5)\n",
    "mi = np.linalg.inv(m)\n",
    "print(mi)\n",
    "print(np.dot(m, mi))"
   ]
  },
  {
   "cell_type": "code",
   "execution_count": 59,
   "metadata": {},
   "outputs": [
    {
     "data": {
      "text/plain": [
       "array([1, 0, 1, 0, 3, 0, 1, 3, 2, 4])"
      ]
     },
     "execution_count": 59,
     "metadata": {},
     "output_type": "execute_result"
    }
   ],
   "source": [
    "np.random.randint(5, size=10)"
   ]
  },
  {
   "cell_type": "markdown",
   "metadata": {},
   "source": [
    "# Plotting"
   ]
  },
  {
   "cell_type": "code",
   "execution_count": 60,
   "metadata": {},
   "outputs": [],
   "source": [
    "import matplotlib as mpl\n",
    "import matplotlib.pyplot as plt\n",
    "mpl.style.use('config/clean.mplstyle') # this loads my personal plotting settings\n",
    "%matplotlib inline"
   ]
  },
  {
   "cell_type": "code",
   "execution_count": 61,
   "metadata": {},
   "outputs": [],
   "source": [
    "# if you have an HD display\n",
    "%config InlineBackend.figure_format = 'retina'"
   ]
  },
  {
   "cell_type": "code",
   "execution_count": 62,
   "metadata": {},
   "outputs": [
    {
     "data": {
      "image/png": "[encoded data removed]",
      "text/plain": [
       "<Figure size 432x288 with 1 Axes>"
      ]
     },
     "metadata": {
      "image/png": {
       "height": 256,
       "width": 369
      },
      "needs_background": "light"
     },
     "output_type": "display_data"
    }
   ],
   "source": [
    "plt.plot(np.arange(10, 20), np.arange(10));"
   ]
  },
  {
   "cell_type": "code",
   "execution_count": 63,
   "metadata": {},
   "outputs": [
    {
     "data": {
      "image/png": "[encoded data removed]",
      "text/plain": [
       "<Figure size 432x288 with 1 Axes>"
      ]
     },
     "metadata": {
      "image/png": {
       "height": 256,
       "width": 385
      },
      "needs_background": "light"
     },
     "output_type": "display_data"
    }
   ],
   "source": [
    "plt.hist(np.random.randn(1000));"
   ]
  },
  {
   "cell_type": "markdown",
   "metadata": {},
   "source": [
    "## Exercise 1"
   ]
  },
  {
   "cell_type": "markdown",
   "metadata": {},
   "source": [
    "1. Generate a bunch of random sentences\n",
    "2. Compute word counts and word frequencies for each\n",
    "3. Plot distribution of frequency and log frequency"
   ]
  },
  {
   "cell_type": "markdown",
   "metadata": {},
   "source": [
    "## More Plotting"
   ]
  },
  {
   "cell_type": "code",
   "execution_count": 64,
   "metadata": {},
   "outputs": [
    {
     "data": {
      "image/png": "[encoded data removed]",
      "text/plain": [
       "<Figure size 432x288 with 1 Axes>"
      ]
     },
     "metadata": {
      "image/png": {
       "height": 256,
       "width": 380
      },
      "needs_background": "light"
     },
     "output_type": "display_data"
    }
   ],
   "source": [
    "plt.plot(np.cumsum(np.random.randn(1000)));"
   ]
  },
  {
   "cell_type": "code",
   "execution_count": 65,
   "metadata": {},
   "outputs": [
    {
     "data": {
      "image/png": "[encoded data removed]",
      "text/plain": [
       "<Figure size 432x288 with 1 Axes>"
      ]
     },
     "metadata": {
      "image/png": {
       "height": 256,
       "width": 388
      },
      "needs_background": "light"
     },
     "output_type": "display_data"
    }
   ],
   "source": [
    "plt.plot(np.cumsum(np.random.randn(1000, 2), axis=0));"
   ]
  },
  {
   "cell_type": "code",
   "execution_count": 66,
   "metadata": {},
   "outputs": [
    {
     "name": "stdout",
     "output_type": "stream",
     "text": [
      "[-0.773761    0.77732598]\n"
     ]
    },
    {
     "data": {
      "image/png": "[encoded data removed]",
      "text/plain": [
       "<Figure size 432x288 with 1 Axes>"
      ]
     },
     "metadata": {
      "image/png": {
       "height": 256,
       "width": 388
      },
      "needs_background": "light"
     },
     "output_type": "display_data"
    }
   ],
   "source": [
    "N = 10000\n",
    "path_gen = lambda: np.cumsum(np.random.randn(1000, 2), axis=0)\n",
    "rhos = np.array([np.corrcoef(path_gen().T)[0, 1] for i in range(N)])\n",
    "print(np.percentile(rhos, [5, 95]))\n",
    "plt.hist(rhos, bins=50);"
   ]
  },
  {
   "cell_type": "code",
   "execution_count": 67,
   "metadata": {},
   "outputs": [
    {
     "name": "stdout",
     "output_type": "stream",
     "text": [
      "[-0.05150057  0.05181021]\n"
     ]
    },
    {
     "data": {
      "image/png": "[encoded data removed]",
      "text/plain": [
       "<Figure size 432x288 with 1 Axes>"
      ]
     },
     "metadata": {
      "image/png": {
       "height": 256,
       "width": 385
      },
      "needs_background": "light"
     },
     "output_type": "display_data"
    }
   ],
   "source": [
    "N = 10000\n",
    "path_gen = lambda: np.random.randn(1000, 2)\n",
    "rhos = np.array([np.corrcoef(path_gen().T)[0, 1] for _ in range(N)])\n",
    "print(np.percentile(rhos, [5, 95]))\n",
    "plt.hist(rhos, bins=50);"
   ]
  },
  {
   "cell_type": "markdown",
   "metadata": {},
   "source": [
    "## Exercise 2"
   ]
  },
  {
   "cell_type": "markdown",
   "metadata": {},
   "source": [
    "Do the same but for an AR(1)."
   ]
  },
  {
   "cell_type": "markdown",
   "metadata": {},
   "source": [
    "# Input/Output"
   ]
  },
  {
   "cell_type": "code",
   "execution_count": 68,
   "metadata": {},
   "outputs": [
    {
     "data": {
      "text/plain": [
       "array([[5.10844367e-01, 6.36931746e-01, 4.26872169e-01, 3.06039470e-01,\n",
       "        1.51349529e-01],\n",
       "       [2.04980210e-01, 9.83148340e-01, 8.82067926e-01, 7.03053924e-01,\n",
       "        6.43194112e-01],\n",
       "       [7.36862662e-01, 4.54650616e-01, 9.51434782e-01, 8.08027006e-01,\n",
       "        2.68823463e-01],\n",
       "       [9.19872702e-01, 1.21591268e-01, 9.13822380e-01, 9.98080347e-01,\n",
       "        6.83208883e-01],\n",
       "       [3.49864145e-01, 9.97459909e-02, 3.04018214e-01, 9.02982913e-03,\n",
       "        4.53406521e-02],\n",
       "       [5.06427299e-01, 6.61222109e-01, 3.02747401e-01, 5.50190611e-01,\n",
       "        1.73237249e-01],\n",
       "       [6.07513597e-01, 6.01703242e-01, 9.59391419e-02, 4.53398499e-01,\n",
       "        3.94734177e-02],\n",
       "       [8.74959932e-01, 6.48196318e-01, 6.47731520e-01, 9.40459388e-01,\n",
       "        6.47721941e-01],\n",
       "       [6.01705562e-01, 8.56884638e-01, 1.47109397e-03, 7.30579721e-01,\n",
       "        5.12677525e-01],\n",
       "       [3.91070990e-01, 9.82669200e-01, 7.68419402e-01, 1.82794392e-01,\n",
       "        7.31004129e-01],\n",
       "       [8.54136838e-01, 6.71110737e-01, 3.55729398e-01, 2.24522075e-01,\n",
       "        2.93368776e-01],\n",
       "       [6.06623686e-01, 7.75650621e-01, 8.42706602e-02, 3.92585042e-01,\n",
       "        5.04506343e-01],\n",
       "       [9.27003949e-01, 2.14465353e-01, 3.35326302e-01, 7.64547877e-01,\n",
       "        3.17384251e-01],\n",
       "       [7.48925545e-01, 6.72568207e-01, 3.36500843e-01, 4.83632055e-02,\n",
       "        7.16525073e-01],\n",
       "       [9.73972233e-01, 5.48978671e-01, 1.18258064e-01, 1.04537561e-02,\n",
       "        8.29236921e-01],\n",
       "       [4.65611827e-02, 2.37133209e-01, 6.08476640e-01, 4.57411659e-01,\n",
       "        8.46117876e-01],\n",
       "       [5.19183095e-01, 7.21760172e-01, 3.17536372e-01, 2.35680616e-01,\n",
       "        7.68359032e-01],\n",
       "       [6.55154254e-01, 4.99096053e-02, 2.32515498e-02, 8.02250060e-01,\n",
       "        6.96258928e-01],\n",
       "       [7.97018586e-01, 3.83613570e-04, 2.16546379e-01, 8.06544483e-01,\n",
       "        9.87615586e-01],\n",
       "       [3.92819429e-01, 7.07447907e-01, 7.20357317e-01, 3.53448270e-01,\n",
       "        4.29311725e-01]])"
      ]
     },
     "execution_count": 68,
     "metadata": {},
     "output_type": "execute_result"
    }
   ],
   "source": [
    "N, M = 20, 5\n",
    "dat = np.random.rand(N, M)\n",
    "dat"
   ]
  },
  {
   "cell_type": "code",
   "execution_count": 69,
   "metadata": {},
   "outputs": [],
   "source": [
    "with open('output/test.csv', 'w+') as fid:\n",
    "    fid.write(','.join([f'col{i}' for i in range(dat.shape[1])])+'\\n')\n",
    "    for row in dat:\n",
    "        fid.write(','.join([f'{x:.5f}' for x in row])+'\\n')"
   ]
  },
  {
   "cell_type": "code",
   "execution_count": 70,
   "metadata": {},
   "outputs": [
    {
     "name": "stdout",
     "output_type": "stream",
     "text": [
      "col0,col1,col2,col3,col4\n",
      "0.51084,0.63693,0.42687,0.30604,0.15135\n",
      "0.20498,0.98315,0.88207,0.70305,0.64319\n",
      "0.73686,0.45465,0.95143,0.80803,0.26882\n",
      "0.91987,0.12159,0.91382,0.99808,0.68321\n",
      "0.34986,0.09975,0.30402,0.00903,0.04534\n",
      "0.50643,0.66122,0.30275,0.55019,0.17324\n",
      "0.60751,0.60170,0.09594,0.45340,0.03947\n",
      "0.87496,0.64820,0.64773,0.94046,0.64772\n",
      "0.60171,0.85688,0.00147,0.73058,0.51268\n",
      "0.39107,0.98267,0.76842,0.18279,0.73100\n",
      "0.85414,0.67111,0.35573,0.22452,0.29337\n",
      "0.60662,0.77565,0.08427,0.39259,0.50451\n",
      "0.92700,0.21447,0.33533,0.76455,0.31738\n",
      "0.74893,0.67257,0.33650,0.04836,0.71653\n",
      "0.97397,0.54898,0.11826,0.01045,0.82924\n",
      "0.04656,0.23713,0.60848,0.45741,0.84612\n",
      "0.51918,0.72176,0.31754,0.23568,0.76836\n",
      "0.65515,0.04991,0.02325,0.80225,0.69626\n",
      "0.79702,0.00038,0.21655,0.80654,0.98762\n",
      "0.39282,0.70745,0.72036,0.35345,0.42931\n",
      "\n"
     ]
    }
   ],
   "source": [
    "with open('output/test.csv') as fid:\n",
    "    print(fid.read())"
   ]
  },
  {
   "cell_type": "code",
   "execution_count": 71,
   "metadata": {},
   "outputs": [
    {
     "name": "stdout",
     "output_type": "stream",
     "text": [
      "['col0', 'col1', 'col2', 'col3', 'col4']\n"
     ]
    },
    {
     "name": "stderr",
     "output_type": "stream",
     "text": [
      "/tmp/ipykernel_46389/3823124139.py:4: DeprecationWarning: `np.float` is a deprecated alias for the builtin `float`. To silence this warning, use `float` by itself. Doing this will not modify any behavior and is safe. If you specifically wanted the numpy scalar type, use `np.float64` here.\n",
      "Deprecated in NumPy 1.20; for more details and guidance: https://numpy.org/devdocs/release/1.20.0-notes.html#deprecations\n",
      "  rdat = np.array([x.strip().split(',') for x in rows[1:]]).astype(np.float)\n"
     ]
    },
    {
     "data": {
      "text/plain": [
       "array([[5.1084e-01, 6.3693e-01, 4.2687e-01, 3.0604e-01, 1.5135e-01],\n",
       "       [2.0498e-01, 9.8315e-01, 8.8207e-01, 7.0305e-01, 6.4319e-01],\n",
       "       [7.3686e-01, 4.5465e-01, 9.5143e-01, 8.0803e-01, 2.6882e-01],\n",
       "       [9.1987e-01, 1.2159e-01, 9.1382e-01, 9.9808e-01, 6.8321e-01],\n",
       "       [3.4986e-01, 9.9750e-02, 3.0402e-01, 9.0300e-03, 4.5340e-02],\n",
       "       [5.0643e-01, 6.6122e-01, 3.0275e-01, 5.5019e-01, 1.7324e-01],\n",
       "       [6.0751e-01, 6.0170e-01, 9.5940e-02, 4.5340e-01, 3.9470e-02],\n",
       "       [8.7496e-01, 6.4820e-01, 6.4773e-01, 9.4046e-01, 6.4772e-01],\n",
       "       [6.0171e-01, 8.5688e-01, 1.4700e-03, 7.3058e-01, 5.1268e-01],\n",
       "       [3.9107e-01, 9.8267e-01, 7.6842e-01, 1.8279e-01, 7.3100e-01],\n",
       "       [8.5414e-01, 6.7111e-01, 3.5573e-01, 2.2452e-01, 2.9337e-01],\n",
       "       [6.0662e-01, 7.7565e-01, 8.4270e-02, 3.9259e-01, 5.0451e-01],\n",
       "       [9.2700e-01, 2.1447e-01, 3.3533e-01, 7.6455e-01, 3.1738e-01],\n",
       "       [7.4893e-01, 6.7257e-01, 3.3650e-01, 4.8360e-02, 7.1653e-01],\n",
       "       [9.7397e-01, 5.4898e-01, 1.1826e-01, 1.0450e-02, 8.2924e-01],\n",
       "       [4.6560e-02, 2.3713e-01, 6.0848e-01, 4.5741e-01, 8.4612e-01],\n",
       "       [5.1918e-01, 7.2176e-01, 3.1754e-01, 2.3568e-01, 7.6836e-01],\n",
       "       [6.5515e-01, 4.9910e-02, 2.3250e-02, 8.0225e-01, 6.9626e-01],\n",
       "       [7.9702e-01, 3.8000e-04, 2.1655e-01, 8.0654e-01, 9.8762e-01],\n",
       "       [3.9282e-01, 7.0745e-01, 7.2036e-01, 3.5345e-01, 4.2931e-01]])"
      ]
     },
     "execution_count": 71,
     "metadata": {},
     "output_type": "execute_result"
    }
   ],
   "source": [
    "with open('output/test.csv') as fid:\n",
    "    rows = list(fid)\n",
    "names = rows[0].strip().split(',')\n",
    "rdat = np.array([x.strip().split(',') for x in rows[1:]]).astype(np.float)\n",
    "print(names)\n",
    "rdat"
   ]
  },
  {
   "cell_type": "markdown",
   "metadata": {},
   "source": [
    "# Jupyter Tricks"
   ]
  },
  {
   "cell_type": "code",
   "execution_count": 72,
   "metadata": {},
   "outputs": [
    {
     "name": "stderr",
     "output_type": "stream",
     "text": [
      "/tmp/ipykernel_46389/2619082212.py:1: DeprecationWarning: Importing display from IPython.core.display is deprecated since IPython 7.14, please import from IPython display\n",
      "  from IPython.core.display import display, HTML\n"
     ]
    }
   ],
   "source": [
    "from IPython.core.display import display, HTML\n",
    "import ipywidgets as widgets\n",
    "from ipywidgets import interactive"
   ]
  },
  {
   "cell_type": "code",
   "execution_count": 73,
   "metadata": {},
   "outputs": [
    {
     "data": {
      "text/html": [
       "<b>Hello, world!</b>"
      ],
      "text/plain": [
       "<IPython.core.display.HTML object>"
      ]
     },
     "metadata": {},
     "output_type": "display_data"
    }
   ],
   "source": [
    "display(HTML('<b>Hello, world!</b>'))"
   ]
  },
  {
   "cell_type": "code",
   "execution_count": 74,
   "metadata": {},
   "outputs": [
    {
     "data": {
      "text/html": [
       "\n",
       "<table>\n",
       "<tr><th>a</th><th>b</th></tr>\n",
       "<tr><td>1</td><td>2</td></tr>\n",
       "<tr><td>3</td><td>4</td></tr>\n",
       "</table>\n"
      ],
      "text/plain": [
       "<IPython.core.display.HTML object>"
      ]
     },
     "metadata": {},
     "output_type": "display_data"
    }
   ],
   "source": [
    "display(HTML(\"\"\"\n",
    "<table>\n",
    "<tr><th>a</th><th>b</th></tr>\n",
    "<tr><td>1</td><td>2</td></tr>\n",
    "<tr><td>3</td><td>4</td></tr>\n",
    "</table>\n",
    "\"\"\"))"
   ]
  },
  {
   "cell_type": "code",
   "execution_count": 75,
   "metadata": {},
   "outputs": [],
   "source": [
    "dat = np.cumsum(np.random.randn(1000))"
   ]
  },
  {
   "cell_type": "code",
   "execution_count": 76,
   "metadata": {},
   "outputs": [
    {
     "data": {
      "application/vnd.jupyter.widget-view+json": {
       "model_id": "49fc3e6930dd4032bc15d2796aa4f148",
       "version_major": 2,
       "version_minor": 0
      },
      "text/plain": [
       "interactive(children=(IntSlider(value=250, description='p', max=500, min=1), Output()), _dom_classes=('widget-…"
      ]
     },
     "metadata": {},
     "output_type": "display_data"
    }
   ],
   "source": [
    "def smoothed(p):\n",
    "    plt.plot(pd.Series(dat).rolling(p).mean())\n",
    "    plt.show()\n",
    "interactive(smoothed, p=(1, 500))"
   ]
  },
  {
   "cell_type": "code",
   "execution_count": 77,
   "metadata": {},
   "outputs": [
    {
     "data": {
      "application/vnd.jupyter.widget-view+json": {
       "model_id": "dfe5ea1fd8464340b27b08286c87e22e",
       "version_major": 2,
       "version_minor": 0
      },
      "text/plain": [
       "interactive(children=(IntSlider(value=20, description='wind', max=500, step=5), Output()), layout=Layout(heigh…"
      ]
     },
     "metadata": {},
     "output_type": "display_data"
    }
   ],
   "source": [
    "# much slicker version\n",
    "ymin, ymax = np.min(dat), np.max(dat)\n",
    "yrange = ymax - ymin\n",
    "ymin -= 0.1*yrange\n",
    "ymax += 0.1*yrange\n",
    "def smoothed(wind):\n",
    "    wind = max(1, wind)\n",
    "    fig, ax = plt.subplots()\n",
    "    pd.Series(dat).rolling(wind, min_periods=0, center=True).mean().plot(ax=ax)\n",
    "    ax.set_ylim(ymin, ymax)\n",
    "    plt.show()\n",
    "slider = widgets.IntSlider(min=0, max=500, step=5, value=20)\n",
    "interactive_plot = interactive(smoothed, wind=slider)\n",
    "interactive_plot.layout.height = '300px'\n",
    "interactive_plot"
   ]
  },
  {
   "cell_type": "markdown",
   "metadata": {},
   "source": [
    "# Other Resources"
   ]
  },
  {
   "cell_type": "markdown",
   "metadata": {},
   "source": [
    "Amazing and fun talk by David Beazley on practical Python usage: https://www.youtube.com/watch?v=lyDLAutA88s"
   ]
  },
  {
   "cell_type": "code",
   "execution_count": null,
   "metadata": {},
   "outputs": [],
   "source": []
  }
 ],
 "metadata": {
  "kernelspec": {
   "display_name": "Python 3 (ipykernel)",
   "language": "python",
   "name": "python3"
  },
  "language_info": {
   "codemirror_mode": {
    "name": "ipython",
    "version": 3
   },
   "file_extension": ".py",
   "mimetype": "text/x-python",
   "name": "python",
   "nbconvert_exporter": "python",
   "pygments_lexer": "ipython3",
   "version": "3.9.10"
  }
 },
 "nbformat": 4,
 "nbformat_minor": 4
}
