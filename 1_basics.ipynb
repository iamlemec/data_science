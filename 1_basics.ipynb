{
 "cells": [
  {
   "cell_type": "markdown",
   "metadata": {
    "tags": []
   },
   "source": [
    "# Intro"
   ]
  },
  {
   "cell_type": "markdown",
   "metadata": {},
   "source": [
    "Open source project started by Guido van Rossum in 1991.\n",
    "\n",
    "Computers are cheap, your time is expensive!\n",
    "\n",
    "Data scientists spend 50-80 percent of their time preparing data.\n",
    "\n",
    "\"Premature optimization is the root of all evil\" -- Donald Knuth, inventor of LaTeX, and many other things\n",
    "\n",
    "Huge and expanding ecosystem of packages for wide variety of tasks\n",
    "\n",
    "Part of the culture to provide usable examples rather than just lengthy documentation\n",
    "\n",
    "Big on \"idioms\" and doing things \"Pythonically\"\n",
    "\n",
    "Duck Typing! If it walks like a duck and quacks like a duck, then... treat it like a duck"
   ]
  },
  {
   "cell_type": "markdown",
   "metadata": {},
   "source": [
    "# Python Basics"
   ]
  },
  {
   "cell_type": "markdown",
   "metadata": {},
   "source": [
    "## Printing"
   ]
  },
  {
   "cell_type": "code",
   "execution_count": 1,
   "metadata": {},
   "outputs": [
    {
     "name": "stdout",
     "output_type": "stream",
     "text": [
      "Hello World!\n"
     ]
    }
   ],
   "source": [
    "print('Hello World!')"
   ]
  },
  {
   "cell_type": "code",
   "execution_count": 2,
   "metadata": {},
   "outputs": [
    {
     "name": "stdout",
     "output_type": "stream",
     "text": [
      "5\n"
     ]
    }
   ],
   "source": [
    "print(5)"
   ]
  },
  {
   "cell_type": "code",
   "execution_count": 3,
   "metadata": {},
   "outputs": [
    {
     "name": "stdout",
     "output_type": "stream",
     "text": [
      "5 6 foo\n"
     ]
    }
   ],
   "source": [
    "print(5, 6, 'foo')"
   ]
  },
  {
   "cell_type": "code",
   "execution_count": 4,
   "metadata": {},
   "outputs": [
    {
     "data": {
      "text/plain": [
       "'hi'"
      ]
     },
     "execution_count": 4,
     "metadata": {},
     "output_type": "execute_result"
    }
   ],
   "source": [
    "'hi' # by default outputs last line of cell"
   ]
  },
  {
   "cell_type": "markdown",
   "metadata": {},
   "source": [
    "## Built-in Types"
   ]
  },
  {
   "cell_type": "markdown",
   "metadata": {},
   "source": [
    "### Tuples (tuple)"
   ]
  },
  {
   "cell_type": "code",
   "execution_count": 5,
   "metadata": {},
   "outputs": [
    {
     "data": {
      "text/plain": [
       "(1, 2)"
      ]
     },
     "execution_count": 5,
     "metadata": {},
     "output_type": "execute_result"
    }
   ],
   "source": [
    "a = (1, 2)\n",
    "a"
   ]
  },
  {
   "cell_type": "code",
   "execution_count": 6,
   "metadata": {},
   "outputs": [
    {
     "name": "stdout",
     "output_type": "stream",
     "text": [
      "1\n",
      "2\n"
     ]
    }
   ],
   "source": [
    "b, c = a # this is called \"unpacking\"\n",
    "print(b)\n",
    "print(c)"
   ]
  },
  {
   "cell_type": "markdown",
   "metadata": {},
   "source": [
    "### Lists (list)"
   ]
  },
  {
   "cell_type": "code",
   "execution_count": 7,
   "metadata": {},
   "outputs": [
    {
     "name": "stdout",
     "output_type": "stream",
     "text": [
      "[1, 2, 3]\n"
     ]
    }
   ],
   "source": [
    "a = [1, 2, 3]\n",
    "print(a)"
   ]
  },
  {
   "cell_type": "code",
   "execution_count": 8,
   "metadata": {},
   "outputs": [
    {
     "name": "stdout",
     "output_type": "stream",
     "text": [
      "[1, 2, 3, 5, 6, 7]\n",
      "[1, 2, 3, 5, 6, 7, 8, 9, 10]\n"
     ]
    }
   ],
   "source": [
    "a += [5, 6, 7] # adding is appending/concatenating\n",
    "print(a)\n",
    "b = a + [8, 9, 10]\n",
    "print(b)"
   ]
  },
  {
   "cell_type": "code",
   "execution_count": 9,
   "metadata": {},
   "outputs": [
    {
     "name": "stdout",
     "output_type": "stream",
     "text": [
      "[1, 2, 3, 5, 6, 7, 8]\n"
     ]
    }
   ],
   "source": [
    "a.append(8)\n",
    "print(a)"
   ]
  },
  {
   "cell_type": "code",
   "execution_count": 10,
   "metadata": {},
   "outputs": [
    {
     "name": "stdout",
     "output_type": "stream",
     "text": [
      "[1, 2, 3, 5, 6, 7, 8, 1, 2, 3, 5, 6, 7, 8, 1, 2, 3, 5, 6, 7, 8]\n"
     ]
    }
   ],
   "source": [
    "b = 3*a # multiplying is repeating\n",
    "print(b)"
   ]
  },
  {
   "cell_type": "code",
   "execution_count": 11,
   "metadata": {},
   "outputs": [
    {
     "data": {
      "text/plain": [
       "[(0, 5), (1, 6), (2, 7), (3, 8), (4, 9)]"
      ]
     },
     "execution_count": 11,
     "metadata": {},
     "output_type": "execute_result"
    }
   ],
   "source": [
    "x = range(5)\n",
    "y = range(5, 10)\n",
    "list(zip(x, y))"
   ]
  },
  {
   "cell_type": "markdown",
   "metadata": {},
   "source": [
    "### Dictionaries (dict)"
   ]
  },
  {
   "cell_type": "code",
   "execution_count": 12,
   "metadata": {},
   "outputs": [
    {
     "name": "stdout",
     "output_type": "stream",
     "text": [
      "{1: 2, 2: 3, 3: 10, 4: -5}\n"
     ]
    }
   ],
   "source": [
    "# dictionaries are a general type of mapping\n",
    "d = {1: 2, 2: 3, 3: 10, 4: -5} # 1->2, 2->3, 3->10, 4->-5\n",
    "print(d)"
   ]
  },
  {
   "cell_type": "code",
   "execution_count": 13,
   "metadata": {},
   "outputs": [
    {
     "data": {
      "text/plain": [
       "10"
      ]
     },
     "execution_count": 13,
     "metadata": {},
     "output_type": "execute_result"
    }
   ],
   "source": [
    "d[3] # access with square brackets"
   ]
  },
  {
   "cell_type": "code",
   "execution_count": 14,
   "metadata": {},
   "outputs": [
    {
     "name": "stdout",
     "output_type": "stream",
     "text": [
      "{'firstname': 'doug', 'lastname': 'hanley', 'city': 'pittsburgh'}\n",
      "{'firstname': 'roee', 'lastname': 'teper'}\n"
     ]
    }
   ],
   "source": [
    "d = {'firstname': 'doug', 'lastname': 'hanley', 'city': 'pittsburgh'}\n",
    "d1 = {'firstname': 'roee', 'lastname': 'teper'}\n",
    "print(d)\n",
    "print(d1)"
   ]
  },
  {
   "cell_type": "code",
   "execution_count": 15,
   "metadata": {},
   "outputs": [
    {
     "name": "stdout",
     "output_type": "stream",
     "text": [
      "pittsburgh\n"
     ]
    }
   ],
   "source": [
    "print(d['city']) # 'pittsburgh'\n",
    "# print(d1['city']) # this will error"
   ]
  },
  {
   "cell_type": "code",
   "execution_count": 16,
   "metadata": {},
   "outputs": [
    {
     "name": "stdout",
     "output_type": "stream",
     "text": [
      "False\n",
      "None\n",
      "unknown\n"
     ]
    }
   ],
   "source": [
    "print('city' in d1) # False\n",
    "print(d1.get('city')) # None\n",
    "print(d1.get('city', 'unknown')) # 'unknown'"
   ]
  },
  {
   "cell_type": "markdown",
   "metadata": {},
   "source": [
    "### Strings"
   ]
  },
  {
   "cell_type": "code",
   "execution_count": 17,
   "metadata": {},
   "outputs": [
    {
     "name": "stdout",
     "output_type": "stream",
     "text": [
      "hello world\n"
     ]
    }
   ],
   "source": [
    "s = 'hello world'\n",
    "print(s)"
   ]
  },
  {
   "cell_type": "code",
   "execution_count": 18,
   "metadata": {},
   "outputs": [
    {
     "name": "stdout",
     "output_type": "stream",
     "text": [
      "hello world again\n"
     ]
    }
   ],
   "source": [
    "# strings are like lists of characters\n",
    "s1 = s + ' again' # concatenate with addition\n",
    "print(s1)"
   ]
  },
  {
   "cell_type": "code",
   "execution_count": 19,
   "metadata": {},
   "outputs": [
    {
     "name": "stdout",
     "output_type": "stream",
     "text": [
      "hello worldhello worldhello world\n"
     ]
    }
   ],
   "source": [
    "print(3*s) # repeat with multiplication"
   ]
  },
  {
   "cell_type": "code",
   "execution_count": 20,
   "metadata": {},
   "outputs": [
    {
     "name": "stdout",
     "output_type": "stream",
     "text": [
      "hello world hello world hello world\n",
      "hello world\n",
      "hello, world\n",
      "hello|world\n"
     ]
    }
   ],
   "source": [
    "# but what about spacing?\n",
    "print(' '.join(3*[s]))\n",
    "print(' '.join(['hello', 'world'])) # joins a list of string with given separator\n",
    "print(', '.join(['hello', 'world']))\n",
    "print('|'.join(['hello', 'world']))"
   ]
  },
  {
   "cell_type": "code",
   "execution_count": 21,
   "metadata": {},
   "outputs": [
    {
     "data": {
      "text/plain": [
       "['the', 'sly', 'fox', 'jumped', 'over', 'the', 'lazy', 'dog']"
      ]
     },
     "execution_count": 21,
     "metadata": {},
     "output_type": "execute_result"
    }
   ],
   "source": [
    "# or in reverse, we can split strings up\n",
    "'the sly fox jumped over the lazy dog'.split()"
   ]
  },
  {
   "cell_type": "code",
   "execution_count": 22,
   "metadata": {},
   "outputs": [
    {
     "name": "stdout",
     "output_type": "stream",
     "text": [
      "5 - test\n",
      "5 - test\n",
      "5 - test\n",
      "5 - test\n"
     ]
    }
   ],
   "source": [
    "# advanced printing\n",
    "x = 5\n",
    "s = 'test'\n",
    "print('%d - %s' % (x, s)) # c style printing\n",
    "print('{} - {}'.format(x, s)) # format style printing\n",
    "print('{:d} - {:s}'.format(x, s)) # format style printing (with types)\n",
    "print(f'{x} - {s}') # f-string printing (new in python 3.6!)"
   ]
  },
  {
   "cell_type": "markdown",
   "metadata": {},
   "source": [
    "## Control Flow"
   ]
  },
  {
   "cell_type": "markdown",
   "metadata": {},
   "source": [
    "### Conditional"
   ]
  },
  {
   "cell_type": "code",
   "execution_count": 23,
   "metadata": {},
   "outputs": [
    {
     "name": "stdout",
     "output_type": "stream",
     "text": [
      "doubling\n",
      "12\n"
     ]
    }
   ],
   "source": [
    "# conditional\n",
    "a = 6\n",
    "if (a < 10) and (a > 3):\n",
    "    a *= 2\n",
    "    print('doubling')\n",
    "print(a)"
   ]
  },
  {
   "cell_type": "markdown",
   "metadata": {},
   "source": [
    "### Looping"
   ]
  },
  {
   "cell_type": "code",
   "execution_count": 24,
   "metadata": {},
   "outputs": [
    {
     "name": "stdout",
     "output_type": "stream",
     "text": [
      "5\n",
      "6\n",
      "7\n",
      "8\n",
      "9\n"
     ]
    }
   ],
   "source": [
    "# basic loop\n",
    "for x in [5, 6, 7, 8, 9]:\n",
    "    print(x)"
   ]
  },
  {
   "cell_type": "code",
   "execution_count": 25,
   "metadata": {},
   "outputs": [
    {
     "name": "stdout",
     "output_type": "stream",
     "text": [
      "0\n",
      "1\n",
      "2\n",
      "3\n",
      "4\n"
     ]
    }
   ],
   "source": [
    "# common loop\n",
    "for x in range(5):\n",
    "    print(x)"
   ]
  },
  {
   "cell_type": "code",
   "execution_count": 26,
   "metadata": {},
   "outputs": [
    {
     "name": "stdout",
     "output_type": "stream",
     "text": [
      "0 5\n",
      "1 6\n",
      "2 7\n",
      "3 8\n",
      "4 9\n"
     ]
    }
   ],
   "source": [
    "# a useful idiom\n",
    "for i, x in enumerate(range(5, 10)):\n",
    "    print(i, x)"
   ]
  },
  {
   "cell_type": "markdown",
   "metadata": {},
   "source": [
    "### List Comprehensions"
   ]
  },
  {
   "cell_type": "code",
   "execution_count": 27,
   "metadata": {},
   "outputs": [
    {
     "name": "stdout",
     "output_type": "stream",
     "text": [
      "range(0, 10)\n",
      "[0, 1, 2, 3, 4, 5, 6, 7, 8, 9]\n"
     ]
    }
   ],
   "source": [
    "a = range(10)\n",
    "print(a) # hmm - it's an iterator object\n",
    "print(list(a))"
   ]
  },
  {
   "cell_type": "code",
   "execution_count": 28,
   "metadata": {},
   "outputs": [
    {
     "name": "stdout",
     "output_type": "stream",
     "text": [
      "[0, 1, 4, 9, 16, 25, 36, 49, 64, 81]\n"
     ]
    }
   ],
   "source": [
    "b = [x**2 for x in a] # like an inline loop\n",
    "print(b)"
   ]
  },
  {
   "cell_type": "code",
   "execution_count": 29,
   "metadata": {},
   "outputs": [
    {
     "name": "stdout",
     "output_type": "stream",
     "text": [
      "[0, 4, 16, 36, 64]\n"
     ]
    }
   ],
   "source": [
    "b = [x**2 for x in a if x % 2 == 0] # only if even\n",
    "print(b)"
   ]
  },
  {
   "cell_type": "code",
   "execution_count": 30,
   "metadata": {},
   "outputs": [
    {
     "name": "stdout",
     "output_type": "stream",
     "text": [
      "{'firstname': 'SEWON', 'lastname': 'HUR'}\n",
      "{'firstname': 'SEWON', 'lastname': 'HUR'}\n"
     ]
    }
   ],
   "source": [
    "# works with dictionaries too!\n",
    "d = {'firstname': 'sewon', 'lastname': 'hur'}\n",
    "d1 = {k: d[k].upper() for k in d}\n",
    "print(d1)\n",
    "d1 = {k: v.upper() for k, v in d.items()}\n",
    "print(d1)"
   ]
  },
  {
   "cell_type": "code",
   "execution_count": 31,
   "metadata": {},
   "outputs": [
    {
     "name": "stdout",
     "output_type": "stream",
     "text": [
      "[(0, 5), (1, 6), (2, 7), (3, 8), (4, 9)]\n",
      "[0, 6, 14, 24, 36]\n"
     ]
    }
   ],
   "source": [
    "# zipping two lists\n",
    "a = range(5)\n",
    "b = range(5, 10)\n",
    "c1 = list(zip(a, b))\n",
    "c2 = [x*y for x, y in zip(a, b)]\n",
    "print(c1)\n",
    "print(c2)"
   ]
  },
  {
   "cell_type": "markdown",
   "metadata": {},
   "source": [
    "## Functions"
   ]
  },
  {
   "cell_type": "code",
   "execution_count": 32,
   "metadata": {},
   "outputs": [
    {
     "data": {
      "text/plain": [
       "15"
      ]
     },
     "execution_count": 32,
     "metadata": {},
     "output_type": "execute_result"
    }
   ],
   "source": [
    "# basic function (indentation matters)\n",
    "def multiply(x, y):\n",
    "    return x*y\n",
    "multiply(5, 3)"
   ]
  },
  {
   "cell_type": "code",
   "execution_count": 33,
   "metadata": {},
   "outputs": [
    {
     "name": "stdout",
     "output_type": "stream",
     "text": [
      "5\n",
      "3\n"
     ]
    }
   ],
   "source": [
    "# keyword arguments with default value\n",
    "def multiply_mod(x, y, mod=10):\n",
    "    z = x*y\n",
    "    return z % mod\n",
    "print(multiply_mod(5, 3))\n",
    "print(multiply_mod(5, 3, mod=12))"
   ]
  },
  {
   "cell_type": "code",
   "execution_count": 34,
   "metadata": {},
   "outputs": [
    {
     "name": "stdout",
     "output_type": "stream",
     "text": [
      "op = add\n",
      "direction = up\n",
      "name = joe\n",
      "level = 7\n"
     ]
    }
   ],
   "source": [
    "# arbirtrary default values - opts is just a dictionary\n",
    "def disp_opts(**opts):\n",
    "    print('\\n'.join([f'{k} = {v}' for k, v in opts.items()]))\n",
    "disp_opts(op='add', direction='up', name='joe', level=7)"
   ]
  },
  {
   "cell_type": "code",
   "execution_count": 35,
   "metadata": {},
   "outputs": [
    {
     "name": "stdout",
     "output_type": "stream",
     "text": [
      "{'op': 'add', 'direction': 'up', 'name': 'joe', 'level': 7}\n"
     ]
    }
   ],
   "source": [
    "# here's how it works\n",
    "def disp_kws(**kwargs):\n",
    "    print(kwargs)\n",
    "disp_kws(op='add', direction='up', name='joe', level=7)"
   ]
  },
  {
   "cell_type": "code",
   "execution_count": 36,
   "metadata": {},
   "outputs": [
    {
     "name": "stdout",
     "output_type": "stream",
     "text": [
      "(0, 1, 2, 3)\n"
     ]
    }
   ],
   "source": [
    "# variable length arguments - here args is a tuple\n",
    "def disp_args(*args):\n",
    "    print(args)\n",
    "disp_args(0, 1, 2, 3)"
   ]
  },
  {
   "cell_type": "code",
   "execution_count": 37,
   "metadata": {},
   "outputs": [
    {
     "name": "stdout",
     "output_type": "stream",
     "text": [
      "{'abc': 5, 'qre': 9, 'hello': 'test'}\n",
      "(1, 'test', 15)\n"
     ]
    }
   ],
   "source": [
    "# we can also pass variable length args and keywords to functions in a similar way\n",
    "d = {'abc': 5, 'qre': 9, 'hello': 'test'}\n",
    "disp_kws(**d)\n",
    "a = [1, 'test', 15]\n",
    "disp_args(*a)"
   ]
  },
  {
   "cell_type": "markdown",
   "metadata": {},
   "source": [
    "### Lambda functions"
   ]
  },
  {
   "cell_type": "code",
   "execution_count": 38,
   "metadata": {},
   "outputs": [
    {
     "name": "stdout",
     "output_type": "stream",
     "text": [
      "5\n",
      "28\n"
     ]
    }
   ],
   "source": [
    "# these are quick little inline functions\n",
    "ident = lambda x: x\n",
    "mult = lambda x, y: x*y\n",
    "print(ident(5))\n",
    "print(mult(4, 7))"
   ]
  },
  {
   "cell_type": "code",
   "execution_count": 39,
   "metadata": {},
   "outputs": [
    {
     "name": "stdout",
     "output_type": "stream",
     "text": [
      "15\n",
      "30\n"
     ]
    }
   ],
   "source": [
    "# there are some gotcha's here though, so be careful!\n",
    "a = 5\n",
    "multa = lambda x: mult(a, x)\n",
    "print(multa(3))\n",
    "a = 10\n",
    "print(multa(3))"
   ]
  },
  {
   "cell_type": "markdown",
   "metadata": {},
   "source": [
    "### Functions of functions"
   ]
  },
  {
   "cell_type": "code",
   "execution_count": 40,
   "metadata": {},
   "outputs": [
    {
     "name": "stdout",
     "output_type": "stream",
     "text": [
      "-10 -3\n",
      "2 2\n"
     ]
    }
   ],
   "source": [
    "# this takes a function and returns a new function\n",
    "def bounder(f, a, b):\n",
    "    def fb(x):\n",
    "        return max(a, min(b, f(x)))\n",
    "    return fb\n",
    "g = lambda x: 2*x\n",
    "g1 = bounder(g, -3, 3)\n",
    "print(g(-5), g1(-5))\n",
    "print(g(1), g1(1))"
   ]
  },
  {
   "cell_type": "code",
   "execution_count": 41,
   "metadata": {},
   "outputs": [
    {
     "name": "stdout",
     "output_type": "stream",
     "text": [
      "-30\n",
      "-30\n"
     ]
    }
   ],
   "source": [
    "def negate(f):\n",
    "    def fn(x):\n",
    "        return -f(x)\n",
    "    return fn\n",
    "\n",
    "# this is called a decorator\n",
    "@negate\n",
    "def h1(x):\n",
    "    return 3*x\n",
    "print(h1(10))\n",
    "\n",
    "# this is equivalent to\n",
    "def h(x):\n",
    "    return 3*x\n",
    "h2 = negate(h)\n",
    "print(h2(10))"
   ]
  },
  {
   "cell_type": "markdown",
   "metadata": {},
   "source": [
    "## Packing and Unpacking"
   ]
  },
  {
   "cell_type": "code",
   "execution_count": 42,
   "metadata": {},
   "outputs": [
    {
     "name": "stdout",
     "output_type": "stream",
     "text": [
      "1 2 3 4\n",
      "1 2 [3, 4]\n"
     ]
    }
   ],
   "source": [
    "a = [1, 2, 3, 4]\n",
    "x, y, w, z = a\n",
    "q, r, *b = a\n",
    "print(x, y, w, z)\n",
    "print(q, r, b)"
   ]
  },
  {
   "cell_type": "code",
   "execution_count": 43,
   "metadata": {},
   "outputs": [
    {
     "name": "stdout",
     "output_type": "stream",
     "text": [
      "[-1, 0, 1, 2, 3, 4]\n",
      "[-1, 1, 2, 3, 4, 10, 1, 2, 3, 4]\n"
     ]
    }
   ],
   "source": [
    "a = [1, 2, 3, 4]\n",
    "b = [-1, 0, *a]\n",
    "c = [-1, *a, 10, *a]\n",
    "print(b)\n",
    "print(c)"
   ]
  },
  {
   "cell_type": "code",
   "execution_count": 44,
   "metadata": {},
   "outputs": [
    {
     "name": "stdout",
     "output_type": "stream",
     "text": [
      "{0: 5, 5: 10, 6: 15, 7: 30}\n",
      "{6: 15, 5: 10, 7: 30}\n"
     ]
    }
   ],
   "source": [
    "d1 = {5: 10, 6: 15, 7: 30}\n",
    "d2 = {0: 5, **d1}\n",
    "d3 = {6: 3, **d1} # overwrites\n",
    "print(d2)\n",
    "print(d3)"
   ]
  },
  {
   "cell_type": "markdown",
   "metadata": {},
   "source": [
    "Sadly there's no dictionary unpacking. Javascipt has this and it's pretty awesome. Maybe someday!"
   ]
  },
  {
   "cell_type": "markdown",
   "metadata": {},
   "source": [
    "# Modules"
   ]
  },
  {
   "cell_type": "code",
   "execution_count": 45,
   "metadata": {},
   "outputs": [],
   "source": [
    "# get acces to more functionality beyond builtins\n",
    "import re # regular expressions"
   ]
  },
  {
   "cell_type": "code",
   "execution_count": 46,
   "metadata": {},
   "outputs": [
    {
     "data": {
      "text/plain": [
       "'their social is xxx-xx-xxxx, fyi'"
      ]
     },
     "execution_count": 46,
     "metadata": {},
     "output_type": "execute_result"
    }
   ],
   "source": [
    "# regular expressions are super powerful\n",
    "re.sub(r'[0-9]{3}-[0-9]{2}-[0-9]{4}', 'xxx-xx-xxxx', 'their social is 123-45-6789, fyi')"
   ]
  },
  {
   "cell_type": "code",
   "execution_count": 47,
   "metadata": {},
   "outputs": [
    {
     "name": "stdout",
     "output_type": "stream",
     "text": [
      "whats with all this silly punctuation \n"
     ]
    }
   ],
   "source": [
    "# even more so when you chain them together\n",
    "s = \"what's with;all, this--silly punctuation!?\"\n",
    "s1 = re.sub(r'[^a-z\\']', ' ', s)\n",
    "s1 = re.sub(r'\\'', '', s1)\n",
    "s1 = re.sub(r' +', ' ', s1)\n",
    "print(s1)"
   ]
  },
  {
   "cell_type": "code",
   "execution_count": 48,
   "metadata": {},
   "outputs": [],
   "source": [
    "# there are lots of little builtin modules that are useful\n",
    "from collections import defaultdict"
   ]
  },
  {
   "cell_type": "code",
   "execution_count": 49,
   "metadata": {},
   "outputs": [
    {
     "data": {
      "text/plain": [
       "defaultdict(list,\n",
       "            {3: ['the', 'sly', 'fox', 'the', 'dog'],\n",
       "             6: ['jumped'],\n",
       "             4: ['over', 'lazy']})"
      ]
     },
     "execution_count": 49,
     "metadata": {},
     "output_type": "execute_result"
    }
   ],
   "source": [
    "# group words by their length\n",
    "s = 'the sly fox jumped over the lazy dog'\n",
    "d = defaultdict(list)\n",
    "for w in s.split():\n",
    "    d[len(w)] += [w]\n",
    "d"
   ]
  },
  {
   "cell_type": "code",
   "execution_count": 50,
   "metadata": {},
   "outputs": [
    {
     "data": {
      "text/plain": [
       "{3: 5, 6: 1, 4: 2}"
      ]
     },
     "execution_count": 50,
     "metadata": {},
     "output_type": "execute_result"
    }
   ],
   "source": [
    "# get just the raw counts\n",
    "{k: len(v) for k, v in d.items()}"
   ]
  },
  {
   "cell_type": "markdown",
   "metadata": {},
   "source": [
    "# Numerics"
   ]
  },
  {
   "cell_type": "code",
   "execution_count": 51,
   "metadata": {},
   "outputs": [],
   "source": [
    "# it's pronounced num-pie :)\n",
    "import numpy as np"
   ]
  },
  {
   "cell_type": "code",
   "execution_count": 52,
   "metadata": {},
   "outputs": [
    {
     "data": {
      "text/plain": [
       "array([1., 1., 1., 1., 1., 1., 1., 1., 1., 1.])"
      ]
     },
     "execution_count": 52,
     "metadata": {},
     "output_type": "execute_result"
    }
   ],
   "source": [
    "np.ones(10) # similar to matlab"
   ]
  },
  {
   "cell_type": "code",
   "execution_count": 53,
   "metadata": {},
   "outputs": [
    {
     "name": "stdout",
     "output_type": "stream",
     "text": [
      "[ 5  7  9 11 13 15 17 19 21]\n"
     ]
    }
   ],
   "source": [
    "# ranges (note doesn't include 22 itself)\n",
    "a = np.arange(5, 22, 2)\n",
    "print(a)"
   ]
  },
  {
   "cell_type": "code",
   "execution_count": 54,
   "metadata": {},
   "outputs": [
    {
     "name": "stdout",
     "output_type": "stream",
     "text": [
      "[0 1 2 3 4 5 6 7 8 9]\n",
      "0\n",
      "[3 4 5 6 7 8 9]\n",
      "[0 1 2 3 4 5 6 7 8]\n",
      "[3 4]\n"
     ]
    }
   ],
   "source": [
    "a = np.arange(10)\n",
    "print(a)\n",
    "print(a[0]) # zero indexed!\n",
    "print(a[3:]) # no 'end' needed\n",
    "print(a[:-1]) # negatives index from end\n",
    "print(a[3:5]) # second index is non-inclusive"
   ]
  },
  {
   "cell_type": "code",
   "execution_count": 55,
   "metadata": {},
   "outputs": [],
   "source": [
    "# define some vectors (1D arrays) to work with\n",
    "a = np.arange(10)\n",
    "b = np.arange(10)"
   ]
  },
  {
   "cell_type": "code",
   "execution_count": 56,
   "metadata": {},
   "outputs": [
    {
     "data": {
      "text/plain": [
       "array([[0],\n",
       "       [1],\n",
       "       [2],\n",
       "       [3],\n",
       "       [4],\n",
       "       [5],\n",
       "       [6],\n",
       "       [7],\n",
       "       [8],\n",
       "       [9]])"
      ]
     },
     "execution_count": 56,
     "metadata": {},
     "output_type": "execute_result"
    }
   ],
   "source": [
    "# we can \"broadcast\" new dimensions at will - here we make a column vector\n",
    "# note that the row dimension is the first index (row-major)\n",
    "a[:, None]"
   ]
  },
  {
   "cell_type": "code",
   "execution_count": 57,
   "metadata": {},
   "outputs": [
    {
     "data": {
      "text/plain": [
       "array([[0, 1, 2, 3, 4, 5, 6, 7, 8, 9]])"
      ]
     },
     "execution_count": 57,
     "metadata": {},
     "output_type": "execute_result"
    }
   ],
   "source": [
    "# same thing but for a row vector\n",
    "b[None, :]"
   ]
  },
  {
   "cell_type": "code",
   "execution_count": 58,
   "metadata": {},
   "outputs": [
    {
     "data": {
      "text/plain": [
       "array([[ 0,  1,  2,  3,  4,  5,  6,  7,  8,  9],\n",
       "       [ 1,  2,  3,  4,  5,  6,  7,  8,  9, 10],\n",
       "       [ 2,  3,  4,  5,  6,  7,  8,  9, 10, 11],\n",
       "       [ 3,  4,  5,  6,  7,  8,  9, 10, 11, 12],\n",
       "       [ 4,  5,  6,  7,  8,  9, 10, 11, 12, 13],\n",
       "       [ 5,  6,  7,  8,  9, 10, 11, 12, 13, 14],\n",
       "       [ 6,  7,  8,  9, 10, 11, 12, 13, 14, 15],\n",
       "       [ 7,  8,  9, 10, 11, 12, 13, 14, 15, 16],\n",
       "       [ 8,  9, 10, 11, 12, 13, 14, 15, 16, 17],\n",
       "       [ 9, 10, 11, 12, 13, 14, 15, 16, 17, 18]])"
      ]
     },
     "execution_count": 58,
     "metadata": {},
     "output_type": "execute_result"
    }
   ],
   "source": [
    "# adding dimensions with indexing - do this instead of repmat!\n",
    "a[:, None] + b[None, :]"
   ]
  },
  {
   "cell_type": "code",
   "execution_count": 59,
   "metadata": {},
   "outputs": [
    {
     "data": {
      "text/plain": [
       "array([ 0,  1,  4,  9, 16, 25, 36, 49, 64, 81])"
      ]
     },
     "execution_count": 59,
     "metadata": {},
     "output_type": "execute_result"
    }
   ],
   "source": [
    "# multiplication is element-wise by default (like .* in matlab)\n",
    "np.arange(10) * np.arange(10)"
   ]
  },
  {
   "cell_type": "code",
   "execution_count": 60,
   "metadata": {},
   "outputs": [
    {
     "data": {
      "text/plain": [
       "array([[ 50,  55,  60,  65,  70,  75,  80,  85,  90,  95],\n",
       "       [ 60,  66,  72,  78,  84,  90,  96, 102, 108, 114],\n",
       "       [ 70,  77,  84,  91,  98, 105, 112, 119, 126, 133],\n",
       "       [ 80,  88,  96, 104, 112, 120, 128, 136, 144, 152],\n",
       "       [ 90,  99, 108, 117, 126, 135, 144, 153, 162, 171],\n",
       "       [100, 110, 120, 130, 140, 150, 160, 170, 180, 190],\n",
       "       [110, 121, 132, 143, 154, 165, 176, 187, 198, 209],\n",
       "       [120, 132, 144, 156, 168, 180, 192, 204, 216, 228],\n",
       "       [130, 143, 156, 169, 182, 195, 208, 221, 234, 247],\n",
       "       [140, 154, 168, 182, 196, 210, 224, 238, 252, 266]])"
      ]
     },
     "execution_count": 60,
     "metadata": {},
     "output_type": "execute_result"
    }
   ],
   "source": [
    "# broadcasting is a game changer\n",
    "np.arange(10, 20)[None, :]*np.arange(5,15)[:, None]"
   ]
  },
  {
   "cell_type": "code",
   "execution_count": 61,
   "metadata": {},
   "outputs": [
    {
     "name": "stdout",
     "output_type": "stream",
     "text": [
      "(3, 5) 15\n"
     ]
    },
    {
     "data": {
      "text/plain": [
       "array([[1., 1., 1., 1., 1.],\n",
       "       [1., 1., 1., 1., 1.],\n",
       "       [1., 1., 1., 1., 1.]])"
      ]
     },
     "execution_count": 61,
     "metadata": {},
     "output_type": "execute_result"
    }
   ],
   "source": [
    "# you can always get shape/size information\n",
    "a = np.ones((3, 5))\n",
    "print(a.shape, a.size)\n",
    "a"
   ]
  },
  {
   "cell_type": "code",
   "execution_count": 62,
   "metadata": {},
   "outputs": [
    {
     "name": "stdout",
     "output_type": "stream",
     "text": [
      "(10, 2)\n",
      "(5, 4)\n",
      "(20,)\n"
     ]
    }
   ],
   "source": [
    "# reshaping is a whole thing\n",
    "a = np.ones((4, 5))\n",
    "print(a.reshape((10, 2)).shape)\n",
    "print(a.T.shape)\n",
    "print(a.flatten().shape)"
   ]
  },
  {
   "cell_type": "code",
   "execution_count": 63,
   "metadata": {},
   "outputs": [
    {
     "name": "stdout",
     "output_type": "stream",
     "text": [
      "[[-0.91990887 -0.66420004 -0.36703393  1.97342032  0.74259419]\n",
      " [ 0.71914134 -1.5717486   2.74632513 -0.08840208 -0.66621342]\n",
      " [ 1.36681315  1.27782916 -1.00543531 -0.78731623 -0.82092116]\n",
      " [ 1.24474971 -0.55108695  1.12872014 -1.50051413  0.44574237]\n",
      " [-3.94067397  7.67990427 -6.2512383  -0.76604725  0.34154879]]\n",
      "[[ 1.00000000e+00  5.72830574e-17  9.96835293e-17 -1.28436782e-16\n",
      "  -6.96221584e-17]\n",
      " [-1.23370381e-16  1.00000000e+00  5.78508910e-17 -1.05580577e-16\n",
      "  -6.79072233e-17]\n",
      " [-4.78838867e-17  3.04036372e-16  1.00000000e+00 -7.63601772e-17\n",
      "   3.03710020e-17]\n",
      " [-1.00044351e-16  4.73805563e-17 -2.37396987e-16  1.00000000e+00\n",
      "   3.68875494e-17]\n",
      " [-1.72382987e-16 -7.67773057e-17 -3.93841229e-16 -1.61196198e-16\n",
      "   1.00000000e+00]]\n"
     ]
    }
   ],
   "source": [
    "m = np.random.rand(5, 5)\n",
    "mi = np.linalg.inv(m)\n",
    "print(mi)\n",
    "print(np.dot(m, mi))"
   ]
  },
  {
   "cell_type": "code",
   "execution_count": 64,
   "metadata": {},
   "outputs": [
    {
     "data": {
      "text/plain": [
       "array([3, 1, 2, 2, 4, 1, 4, 4, 3, 3])"
      ]
     },
     "execution_count": 64,
     "metadata": {},
     "output_type": "execute_result"
    }
   ],
   "source": [
    "# there are many distribution types available in np.random\n",
    "np.random.randint(5, size=10)"
   ]
  },
  {
   "cell_type": "markdown",
   "metadata": {},
   "source": [
    "# Plotting"
   ]
  },
  {
   "cell_type": "code",
   "execution_count": 65,
   "metadata": {},
   "outputs": [],
   "source": [
    "import matplotlib as mpl\n",
    "import matplotlib.pyplot as plt\n",
    "mpl.style.use('config/clean.mplstyle') # this loads my personal plotting settings\n",
    "%matplotlib inline"
   ]
  },
  {
   "cell_type": "code",
   "execution_count": 66,
   "metadata": {},
   "outputs": [],
   "source": [
    "# if you have an HD display\n",
    "%config InlineBackend.figure_format = 'retina'"
   ]
  },
  {
   "cell_type": "code",
   "execution_count": 67,
   "metadata": {},
   "outputs": [
    {
     "data": {
      "image/png": "[encoded data removed]",
      "text/plain": [
       "<Figure size 432x288 with 1 Axes>"
      ]
     },
     "metadata": {
      "image/png": {
       "height": 256,
       "width": 369
      },
      "needs_background": "light"
     },
     "output_type": "display_data"
    }
   ],
   "source": [
    "# simple line example\n",
    "plt.plot(np.arange(10, 20), np.arange(10));"
   ]
  },
  {
   "cell_type": "code",
   "execution_count": 68,
   "metadata": {},
   "outputs": [
    {
     "data": {
      "image/png": "[encoded data removed]",
      "text/plain": [
       "<Figure size 432x288 with 1 Axes>"
      ]
     },
     "metadata": {
      "image/png": {
       "height": 258,
       "width": 385
      },
      "needs_background": "light"
     },
     "output_type": "display_data"
    }
   ],
   "source": [
    "# random histogram\n",
    "plt.hist(np.random.randn(1000));"
   ]
  },
  {
   "cell_type": "markdown",
   "metadata": {},
   "source": [
    "## Exercise 1"
   ]
  },
  {
   "cell_type": "markdown",
   "metadata": {},
   "source": [
    "1. Generate a bunch of random sentences\n",
    "2. Compute word counts and word frequencies for each\n",
    "3. Plot distribution of frequency and log frequency"
   ]
  },
  {
   "cell_type": "markdown",
   "metadata": {},
   "source": [
    "## More Plotting"
   ]
  },
  {
   "cell_type": "code",
   "execution_count": 69,
   "metadata": {},
   "outputs": [
    {
     "data": {
      "image/png": "[encoded data removed]",
      "text/plain": [
       "<Figure size 432x288 with 1 Axes>"
      ]
     },
     "metadata": {
      "image/png": {
       "height": 256,
       "width": 388
      },
      "needs_background": "light"
     },
     "output_type": "display_data"
    }
   ],
   "source": [
    "# brownian motion looking stuff\n",
    "plt.plot(np.cumsum(np.random.randn(1000)));"
   ]
  },
  {
   "cell_type": "code",
   "execution_count": 70,
   "metadata": {},
   "outputs": [
    {
     "data": {
      "image/png": "[encoded data removed]",
      "text/plain": [
       "<Figure size 432x288 with 1 Axes>"
      ]
     },
     "metadata": {
      "image/png": {
       "height": 256,
       "width": 388
      },
      "needs_background": "light"
     },
     "output_type": "display_data"
    }
   ],
   "source": [
    "# passing a 2d array - this will treat each column as a separate series\n",
    "plt.plot(np.cumsum(np.random.randn(1000, 2), axis=0));"
   ]
  },
  {
   "cell_type": "code",
   "execution_count": 71,
   "metadata": {},
   "outputs": [
    {
     "name": "stdout",
     "output_type": "stream",
     "text": [
      "[-0.77961684  0.76581819]\n"
     ]
    },
    {
     "data": {
      "image/png": "[encoded data removed]",
      "text/plain": [
       "<Figure size 432x288 with 1 Axes>"
      ]
     },
     "metadata": {
      "image/png": {
       "height": 256,
       "width": 388
      },
      "needs_background": "light"
     },
     "output_type": "display_data"
    }
   ],
   "source": [
    "# just a little monte-carlo thing on correlations\n",
    "N = 10000\n",
    "path_gen = lambda: np.cumsum(np.random.randn(1000, 2), axis=0)\n",
    "rhos = np.array([np.corrcoef(path_gen().T)[0, 1] for i in range(N)])\n",
    "print(np.percentile(rhos, [5, 95]))\n",
    "plt.hist(rhos, bins=50);"
   ]
  },
  {
   "cell_type": "code",
   "execution_count": 72,
   "metadata": {},
   "outputs": [
    {
     "name": "stdout",
     "output_type": "stream",
     "text": [
      "[-0.05200697  0.0520213 ]\n"
     ]
    },
    {
     "data": {
      "image/png": "[encoded data removed]",
      "text/plain": [
       "<Figure size 432x288 with 1 Axes>"
      ]
     },
     "metadata": {
      "image/png": {
       "height": 261,
       "width": 385
      },
      "needs_background": "light"
     },
     "output_type": "display_data"
    }
   ],
   "source": [
    "# now on purely random iid data\n",
    "N = 10000\n",
    "path_gen = lambda: np.random.randn(1000, 2)\n",
    "rhos = np.array([np.corrcoef(path_gen().T)[0, 1] for _ in range(N)])\n",
    "print(np.percentile(rhos, [5, 95]))\n",
    "plt.hist(rhos, bins=50);"
   ]
  },
  {
   "cell_type": "markdown",
   "metadata": {},
   "source": [
    "## Exercise 2"
   ]
  },
  {
   "cell_type": "markdown",
   "metadata": {},
   "source": [
    "Do the same but for an AR(1)."
   ]
  },
  {
   "cell_type": "markdown",
   "metadata": {},
   "source": [
    "# Input/Output"
   ]
  },
  {
   "cell_type": "markdown",
   "metadata": {},
   "source": [
    "This is just to show you how to do things the old fashioned way. See the next lecture for the \"modern\" methods using `pandas`."
   ]
  },
  {
   "cell_type": "code",
   "execution_count": 73,
   "metadata": {},
   "outputs": [
    {
     "data": {
      "text/plain": [
       "array([[0.64703339, 0.07908614, 0.88058597, 0.49621258, 0.68652487],\n",
       "       [0.44980076, 0.19998843, 0.11737909, 0.8273833 , 0.24584746],\n",
       "       [0.92503617, 0.76565657, 0.94474788, 0.83337313, 0.74892121],\n",
       "       [0.24200141, 0.07166148, 0.83587793, 0.5531466 , 0.30655333],\n",
       "       [0.29655581, 0.41994804, 0.42296898, 0.57134973, 0.7615681 ],\n",
       "       [0.67111124, 0.31972217, 0.11433015, 0.29406854, 0.48912063],\n",
       "       [0.32958294, 0.17956519, 0.39802857, 0.2757408 , 0.45443912],\n",
       "       [0.10131328, 0.98230147, 0.39670024, 0.85952907, 0.56395308],\n",
       "       [0.53285959, 0.54808466, 0.91792217, 0.57440743, 0.32831087],\n",
       "       [0.08017685, 0.67416602, 0.81043403, 0.79346499, 0.52113719],\n",
       "       [0.82170824, 0.37287201, 0.38017651, 0.43759472, 0.48237752],\n",
       "       [0.92863245, 0.06824943, 0.09409677, 0.12939906, 0.75479406],\n",
       "       [0.0210611 , 0.82936768, 0.61964829, 0.66466641, 0.69379185],\n",
       "       [0.57413929, 0.32861581, 0.54319908, 0.58121045, 0.68299881],\n",
       "       [0.43110893, 0.86756874, 0.82039338, 0.16276921, 0.23723119],\n",
       "       [0.27151767, 0.51575369, 0.56471537, 0.9182917 , 0.34386122],\n",
       "       [0.22011762, 0.67135021, 0.55994291, 0.30794379, 0.30053716],\n",
       "       [0.19320118, 0.07307745, 0.49537685, 0.7967947 , 0.08949714],\n",
       "       [0.62864288, 0.26830792, 0.11995257, 0.90159485, 0.55671939],\n",
       "       [0.61791114, 0.12146909, 0.46824713, 0.83653291, 0.7318278 ]])"
      ]
     },
     "execution_count": 73,
     "metadata": {},
     "output_type": "execute_result"
    }
   ],
   "source": [
    "# generate some random data\n",
    "N, M = 20, 5\n",
    "dat = np.random.rand(N, M)\n",
    "dat"
   ]
  },
  {
   "cell_type": "code",
   "execution_count": 74,
   "metadata": {},
   "outputs": [],
   "source": [
    "# manually write out a CSV file of the data\n",
    "with open('output/test.csv', 'w+') as fid:\n",
    "    fid.write(','.join([f'col{i}' for i in range(dat.shape[1])])+'\\n')\n",
    "    for row in dat:\n",
    "        fid.write(','.join([f'{x:.5f}' for x in row])+'\\n')"
   ]
  },
  {
   "cell_type": "code",
   "execution_count": 75,
   "metadata": {},
   "outputs": [
    {
     "name": "stdout",
     "output_type": "stream",
     "text": [
      "col0,col1,col2,col3,col4\n",
      "0.64703,0.07909,0.88059,0.49621,0.68652\n",
      "0.44980,0.19999,0.11738,0.82738,0.24585\n",
      "0.92504,0.76566,0.94475,0.83337,0.74892\n",
      "0.24200,0.07166,0.83588,0.55315,0.30655\n",
      "0.29656,0.41995,0.42297,0.57135,0.76157\n",
      "0.67111,0.31972,0.11433,0.29407,0.48912\n",
      "0.32958,0.17957,0.39803,0.27574,0.45444\n",
      "0.10131,0.98230,0.39670,0.85953,0.56395\n",
      "0.53286,0.54808,0.91792,0.57441,0.32831\n",
      "0.08018,0.67417,0.81043,0.79346,0.52114\n",
      "0.82171,0.37287,0.38018,0.43759,0.48238\n",
      "0.92863,0.06825,0.09410,0.12940,0.75479\n",
      "0.02106,0.82937,0.61965,0.66467,0.69379\n",
      "0.57414,0.32862,0.54320,0.58121,0.68300\n",
      "0.43111,0.86757,0.82039,0.16277,0.23723\n",
      "0.27152,0.51575,0.56472,0.91829,0.34386\n",
      "0.22012,0.67135,0.55994,0.30794,0.30054\n",
      "0.19320,0.07308,0.49538,0.79679,0.08950\n",
      "0.62864,0.26831,0.11995,0.90159,0.55672\n",
      "0.61791,0.12147,0.46825,0.83653,0.73183\n",
      "\n"
     ]
    }
   ],
   "source": [
    "# read back the data and print it\n",
    "with open('output/test.csv') as fid:\n",
    "    print(fid.read())"
   ]
  },
  {
   "cell_type": "code",
   "execution_count": 76,
   "metadata": {},
   "outputs": [
    {
     "name": "stdout",
     "output_type": "stream",
     "text": [
      "['col0', 'col1', 'col2', 'col3', 'col4']\n"
     ]
    },
    {
     "data": {
      "text/plain": [
       "array([[0.64703, 0.07909, 0.88059, 0.49621, 0.68652],\n",
       "       [0.4498 , 0.19999, 0.11738, 0.82738, 0.24585],\n",
       "       [0.92504, 0.76566, 0.94475, 0.83337, 0.74892],\n",
       "       [0.242  , 0.07166, 0.83588, 0.55315, 0.30655],\n",
       "       [0.29656, 0.41995, 0.42297, 0.57135, 0.76157],\n",
       "       [0.67111, 0.31972, 0.11433, 0.29407, 0.48912],\n",
       "       [0.32958, 0.17957, 0.39803, 0.27574, 0.45444],\n",
       "       [0.10131, 0.9823 , 0.3967 , 0.85953, 0.56395],\n",
       "       [0.53286, 0.54808, 0.91792, 0.57441, 0.32831],\n",
       "       [0.08018, 0.67417, 0.81043, 0.79346, 0.52114],\n",
       "       [0.82171, 0.37287, 0.38018, 0.43759, 0.48238],\n",
       "       [0.92863, 0.06825, 0.0941 , 0.1294 , 0.75479],\n",
       "       [0.02106, 0.82937, 0.61965, 0.66467, 0.69379],\n",
       "       [0.57414, 0.32862, 0.5432 , 0.58121, 0.683  ],\n",
       "       [0.43111, 0.86757, 0.82039, 0.16277, 0.23723],\n",
       "       [0.27152, 0.51575, 0.56472, 0.91829, 0.34386],\n",
       "       [0.22012, 0.67135, 0.55994, 0.30794, 0.30054],\n",
       "       [0.1932 , 0.07308, 0.49538, 0.79679, 0.0895 ],\n",
       "       [0.62864, 0.26831, 0.11995, 0.90159, 0.55672],\n",
       "       [0.61791, 0.12147, 0.46825, 0.83653, 0.73183]])"
      ]
     },
     "execution_count": 76,
     "metadata": {},
     "output_type": "execute_result"
    }
   ],
   "source": [
    "# actually parse the data this time\n",
    "with open('output/test.csv') as fid:\n",
    "    rows = list(fid)\n",
    "names = rows[0].strip().split(',')\n",
    "rdat = np.array([x.strip().split(',') for x in rows[1:]]).astype(float)\n",
    "print(names)\n",
    "rdat"
   ]
  },
  {
   "cell_type": "markdown",
   "metadata": {},
   "source": [
    "# Jupyter Tricks"
   ]
  },
  {
   "cell_type": "code",
   "execution_count": 77,
   "metadata": {},
   "outputs": [],
   "source": [
    "# load in ipython widget tools\n",
    "from IPython.display import display, HTML\n",
    "import ipywidgets as widgets\n",
    "from ipywidgets import interactive"
   ]
  },
  {
   "cell_type": "code",
   "execution_count": 78,
   "metadata": {},
   "outputs": [
    {
     "data": {
      "text/html": [
       "<b>Hello, world!</b>"
      ],
      "text/plain": [
       "<IPython.core.display.HTML object>"
      ]
     },
     "metadata": {},
     "output_type": "display_data"
    }
   ],
   "source": [
    "# display some simple HTML\n",
    "display(HTML('<b>Hello, world!</b>'))"
   ]
  },
  {
   "cell_type": "code",
   "execution_count": 79,
   "metadata": {},
   "outputs": [
    {
     "data": {
      "text/html": [
       "\n",
       "<table>\n",
       "<tr><th>a</th><th>b</th></tr>\n",
       "<tr><td>1</td><td>2</td></tr>\n",
       "<tr><td>3</td><td>4</td></tr>\n",
       "</table>\n"
      ],
      "text/plain": [
       "<IPython.core.display.HTML object>"
      ]
     },
     "metadata": {},
     "output_type": "display_data"
    }
   ],
   "source": [
    "# display more complex HTML\n",
    "display(HTML(\"\"\"\n",
    "<table>\n",
    "<tr><th>a</th><th>b</th></tr>\n",
    "<tr><td>1</td><td>2</td></tr>\n",
    "<tr><td>3</td><td>4</td></tr>\n",
    "</table>\n",
    "\"\"\"))"
   ]
  },
  {
   "cell_type": "code",
   "execution_count": 80,
   "metadata": {},
   "outputs": [],
   "source": [
    "# generate a random walk to plot\n",
    "dat = np.cumsum(np.random.randn(1000))"
   ]
  },
  {
   "cell_type": "code",
   "execution_count": 81,
   "metadata": {},
   "outputs": [
    {
     "data": {
      "application/vnd.jupyter.widget-view+json": {
       "model_id": "7cd86e9bcdaa46e0af3ebc6a2582ba0f",
       "version_major": 2,
       "version_minor": 0
      },
      "text/plain": [
       "interactive(children=(IntSlider(value=250, description='p', max=500, min=1), Output()), _dom_classes=('widget-…"
      ]
     },
     "metadata": {},
     "output_type": "display_data"
    }
   ],
   "source": [
    "# slider controls how much smoothing to do\n",
    "def smoothed(p):\n",
    "    plt.plot(pd.Series(dat).rolling(p).mean())\n",
    "    plt.show()\n",
    "interactive(smoothed, p=(1, 500))"
   ]
  },
  {
   "cell_type": "code",
   "execution_count": 82,
   "metadata": {},
   "outputs": [
    {
     "data": {
      "application/vnd.jupyter.widget-view+json": {
       "model_id": "2ccfc8dc08a04bba8136253d901cd8ba",
       "version_major": 2,
       "version_minor": 0
      },
      "text/plain": [
       "interactive(children=(IntSlider(value=20, description='wind', max=500, step=5), Output()), layout=Layout(heigh…"
      ]
     },
     "metadata": {},
     "output_type": "display_data"
    }
   ],
   "source": [
    "# slicker version - fixes axes bounds but still has some flicker\n",
    "ymin, ymax = np.min(dat), np.max(dat)\n",
    "yrange = ymax - ymin\n",
    "ymin -= 0.1*yrange\n",
    "ymax += 0.1*yrange\n",
    "def smoothed(wind):\n",
    "    wind = max(1, wind)\n",
    "    fig, ax = plt.subplots()\n",
    "    pd.Series(dat).rolling(wind, min_periods=0, center=True).mean().plot(ax=ax)\n",
    "    ax.set_ylim(ymin, ymax)\n",
    "    plt.show()\n",
    "slider = widgets.IntSlider(min=0, max=500, step=5, value=20)\n",
    "interactive_plot = interactive(smoothed, wind=slider)\n",
    "interactive_plot.layout.height = '300px'\n",
    "interactive_plot"
   ]
  },
  {
   "cell_type": "markdown",
   "metadata": {},
   "source": [
    "# Other Resources"
   ]
  },
  {
   "cell_type": "markdown",
   "metadata": {},
   "source": [
    "Amazing and fun talk by David Beazley on practical Python usage: https://www.youtube.com/watch?v=lyDLAutA88s"
   ]
  },
  {
   "cell_type": "code",
   "execution_count": null,
   "metadata": {},
   "outputs": [],
   "source": []
  }
 ],
 "metadata": {
  "kernelspec": {
   "display_name": "Python 3 (ipykernel)",
   "language": "python",
   "name": "python3"
  },
  "language_info": {
   "codemirror_mode": {
    "name": "ipython",
    "version": 3
   },
   "file_extension": ".py",
   "mimetype": "text/x-python",
   "name": "python",
   "nbconvert_exporter": "python",
   "pygments_lexer": "ipython3",
   "version": "3.9.10"
  }
 },
 "nbformat": 4,
 "nbformat_minor": 4
}
