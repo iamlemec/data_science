{
 "cells": [
  {
   "cell_type": "markdown",
   "metadata": {},
   "source": [
    "# Intro"
   ]
  },
  {
   "cell_type": "markdown",
   "metadata": {},
   "source": [
    "Open source project started by Guido van Rossum in 1991.\n",
    "\n",
    "Computers are cheap, your time is expensive!\n",
    "\n",
    "Data scientists spend 50-80 percent of their time preparing data.\n",
    "\n",
    "\"Premature optimization is the root of all evil\" -- Donald Knuth, inventor of LaTeX, and many other things\n",
    "\n",
    "Huge and expanding ecosystem of packages for wide variety of tasks\n",
    "\n",
    "Part of the culture to provide usable examples rather than just lengthy documentation\n",
    "\n",
    "Big on \"idioms\" and doing things \"Pythonically\"\n",
    "\n",
    "Duck Typing! If it walks like a duck and quacks like a duck, then... treat it like a duck"
   ]
  },
  {
   "cell_type": "markdown",
   "metadata": {},
   "source": [
    "# Python Basics"
   ]
  },
  {
   "cell_type": "markdown",
   "metadata": {},
   "source": [
    "## Printing"
   ]
  },
  {
   "cell_type": "code",
   "execution_count": 1,
   "metadata": {},
   "outputs": [
    {
     "name": "stdout",
     "output_type": "stream",
     "text": [
      "Hello World!\n"
     ]
    }
   ],
   "source": [
    "print('Hello World!')"
   ]
  },
  {
   "cell_type": "code",
   "execution_count": 2,
   "metadata": {},
   "outputs": [
    {
     "name": "stdout",
     "output_type": "stream",
     "text": [
      "5\n"
     ]
    }
   ],
   "source": [
    "print(5)"
   ]
  },
  {
   "cell_type": "code",
   "execution_count": 3,
   "metadata": {},
   "outputs": [
    {
     "name": "stdout",
     "output_type": "stream",
     "text": [
      "5 6 foo\n"
     ]
    }
   ],
   "source": [
    "print(5, 6, 'foo')"
   ]
  },
  {
   "cell_type": "code",
   "execution_count": 4,
   "metadata": {},
   "outputs": [
    {
     "data": {
      "text/plain": [
       "'hi'"
      ]
     },
     "execution_count": 4,
     "metadata": {},
     "output_type": "execute_result"
    }
   ],
   "source": [
    "'hi' # by default outputs last line of cell"
   ]
  },
  {
   "cell_type": "markdown",
   "metadata": {},
   "source": [
    "## Built-in Types"
   ]
  },
  {
   "cell_type": "markdown",
   "metadata": {},
   "source": [
    "### Tuples (tuple)"
   ]
  },
  {
   "cell_type": "code",
   "execution_count": 5,
   "metadata": {},
   "outputs": [
    {
     "data": {
      "text/plain": [
       "(1, 2)"
      ]
     },
     "execution_count": 5,
     "metadata": {},
     "output_type": "execute_result"
    }
   ],
   "source": [
    "a = (1, 2)\n",
    "a"
   ]
  },
  {
   "cell_type": "code",
   "execution_count": 6,
   "metadata": {},
   "outputs": [
    {
     "name": "stdout",
     "output_type": "stream",
     "text": [
      "1\n",
      "2\n"
     ]
    }
   ],
   "source": [
    "b, c = a # this is called \"unpacking\"\n",
    "print(b)\n",
    "print(c)"
   ]
  },
  {
   "cell_type": "markdown",
   "metadata": {},
   "source": [
    "### Lists (list)"
   ]
  },
  {
   "cell_type": "code",
   "execution_count": 7,
   "metadata": {},
   "outputs": [
    {
     "name": "stdout",
     "output_type": "stream",
     "text": [
      "[1, 2, 3]\n"
     ]
    }
   ],
   "source": [
    "a = [1, 2, 3]\n",
    "print(a)"
   ]
  },
  {
   "cell_type": "code",
   "execution_count": 8,
   "metadata": {},
   "outputs": [
    {
     "name": "stdout",
     "output_type": "stream",
     "text": [
      "[1, 2, 3, 5, 6, 7]\n",
      "[1, 2, 3, 5, 6, 7, 8, 9, 10]\n"
     ]
    }
   ],
   "source": [
    "a += [5, 6, 7] # adding is appending/concatenating\n",
    "print(a)\n",
    "b = a + [8, 9, 10]\n",
    "print(b)"
   ]
  },
  {
   "cell_type": "code",
   "execution_count": 9,
   "metadata": {},
   "outputs": [
    {
     "name": "stdout",
     "output_type": "stream",
     "text": [
      "[1, 2, 3, 5, 6, 7, 8]\n"
     ]
    }
   ],
   "source": [
    "a.append(8)\n",
    "print(a)"
   ]
  },
  {
   "cell_type": "code",
   "execution_count": 10,
   "metadata": {},
   "outputs": [
    {
     "name": "stdout",
     "output_type": "stream",
     "text": [
      "[1, 2, 3, 5, 6, 7, 8, 1, 2, 3, 5, 6, 7, 8, 1, 2, 3, 5, 6, 7, 8]\n"
     ]
    }
   ],
   "source": [
    "b = 3*a # multiplying is repeating\n",
    "print(b)"
   ]
  },
  {
   "cell_type": "code",
   "execution_count": 11,
   "metadata": {},
   "outputs": [
    {
     "data": {
      "text/plain": [
       "[(0, 5), (1, 6), (2, 7), (3, 8), (4, 9)]"
      ]
     },
     "execution_count": 11,
     "metadata": {},
     "output_type": "execute_result"
    }
   ],
   "source": [
    "x = range(5)\n",
    "y = range(5, 10)\n",
    "list(zip(x, y))"
   ]
  },
  {
   "cell_type": "markdown",
   "metadata": {},
   "source": [
    "### Dictionaries (dict)"
   ]
  },
  {
   "cell_type": "code",
   "execution_count": 12,
   "metadata": {},
   "outputs": [
    {
     "name": "stdout",
     "output_type": "stream",
     "text": [
      "{1: 2, 2: 3, 3: 10, 4: -5}\n"
     ]
    }
   ],
   "source": [
    "# dictionaries are a general type of mapping\n",
    "d = {1: 2, 2: 3, 3: 10, 4: -5} # 1->2, 2->3, 3->10, 4->-5\n",
    "print(d)"
   ]
  },
  {
   "cell_type": "code",
   "execution_count": 13,
   "metadata": {},
   "outputs": [
    {
     "data": {
      "text/plain": [
       "10"
      ]
     },
     "execution_count": 13,
     "metadata": {},
     "output_type": "execute_result"
    }
   ],
   "source": [
    "d[3] # access with square brackets"
   ]
  },
  {
   "cell_type": "code",
   "execution_count": 14,
   "metadata": {},
   "outputs": [
    {
     "name": "stdout",
     "output_type": "stream",
     "text": [
      "{'firstname': 'doug', 'lastname': 'hanley', 'city': 'pittsburgh'}\n",
      "{'firstname': 'roee', 'lastname': 'teper'}\n"
     ]
    }
   ],
   "source": [
    "d = {'firstname': 'doug', 'lastname': 'hanley', 'city': 'pittsburgh'}\n",
    "d1 = {'firstname': 'roee', 'lastname': 'teper'}\n",
    "print(d)\n",
    "print(d1)"
   ]
  },
  {
   "cell_type": "code",
   "execution_count": 15,
   "metadata": {},
   "outputs": [
    {
     "name": "stdout",
     "output_type": "stream",
     "text": [
      "pittsburgh\n"
     ]
    },
    {
     "ename": "KeyError",
     "evalue": "'city'",
     "output_type": "error",
     "traceback": [
      "\u001b[0;31m---------------------------------------------------------------------------\u001b[0m",
      "\u001b[0;31mKeyError\u001b[0m                                  Traceback (most recent call last)",
      "\u001b[0;32m<ipython-input-15-a2c9420ae566>\u001b[0m in \u001b[0;36m<module>\u001b[0;34m\u001b[0m\n\u001b[1;32m      1\u001b[0m \u001b[0mprint\u001b[0m\u001b[0;34m(\u001b[0m\u001b[0md\u001b[0m\u001b[0;34m[\u001b[0m\u001b[0;34m'city'\u001b[0m\u001b[0;34m]\u001b[0m\u001b[0;34m)\u001b[0m \u001b[0;31m# 'pittsburgh'\u001b[0m\u001b[0;34m\u001b[0m\u001b[0;34m\u001b[0m\u001b[0m\n\u001b[0;32m----> 2\u001b[0;31m \u001b[0mprint\u001b[0m\u001b[0;34m(\u001b[0m\u001b[0md1\u001b[0m\u001b[0;34m[\u001b[0m\u001b[0;34m'city'\u001b[0m\u001b[0;34m]\u001b[0m\u001b[0;34m)\u001b[0m \u001b[0;31m# error\u001b[0m\u001b[0;34m\u001b[0m\u001b[0;34m\u001b[0m\u001b[0m\n\u001b[0m",
      "\u001b[0;31mKeyError\u001b[0m: 'city'"
     ]
    }
   ],
   "source": [
    "print(d['city']) # 'pittsburgh'\n",
    "print(d1['city']) # error"
   ]
  },
  {
   "cell_type": "code",
   "execution_count": 16,
   "metadata": {},
   "outputs": [
    {
     "name": "stdout",
     "output_type": "stream",
     "text": [
      "False\n",
      "None\n",
      "unknown\n"
     ]
    }
   ],
   "source": [
    "print('city' in d1) # False\n",
    "print(d1.get('city')) # None\n",
    "print(d1.get('city', 'unknown')) # 'unknown'"
   ]
  },
  {
   "cell_type": "markdown",
   "metadata": {},
   "source": [
    "### Strings"
   ]
  },
  {
   "cell_type": "code",
   "execution_count": 17,
   "metadata": {},
   "outputs": [
    {
     "name": "stdout",
     "output_type": "stream",
     "text": [
      "hello world\n"
     ]
    }
   ],
   "source": [
    "s = 'hello world'\n",
    "print(s)"
   ]
  },
  {
   "cell_type": "code",
   "execution_count": 18,
   "metadata": {},
   "outputs": [
    {
     "name": "stdout",
     "output_type": "stream",
     "text": [
      "hello world again\n"
     ]
    }
   ],
   "source": [
    "# strings are like lists of characters\n",
    "s1 = s + ' again' # concatenate with addition\n",
    "print(s1)"
   ]
  },
  {
   "cell_type": "code",
   "execution_count": 19,
   "metadata": {},
   "outputs": [
    {
     "name": "stdout",
     "output_type": "stream",
     "text": [
      "hello worldhello worldhello world\n"
     ]
    }
   ],
   "source": [
    "print(3*s) # repeat with multiplication"
   ]
  },
  {
   "cell_type": "code",
   "execution_count": 20,
   "metadata": {},
   "outputs": [
    {
     "data": {
      "text/plain": [
       "'hello world hello world hello world'"
      ]
     },
     "execution_count": 20,
     "metadata": {},
     "output_type": "execute_result"
    }
   ],
   "source": [
    "' '.join(3*[s])"
   ]
  },
  {
   "cell_type": "code",
   "execution_count": 21,
   "metadata": {},
   "outputs": [
    {
     "name": "stdout",
     "output_type": "stream",
     "text": [
      "hello world hello world hello world\n",
      "hello world\n",
      "hello, world\n",
      "hello|world\n"
     ]
    }
   ],
   "source": [
    "# but what about spacing?\n",
    "print(' '.join(3*[s]))\n",
    "print(' '.join(['hello', 'world'])) # joins a list of string with given separator\n",
    "print(', '.join(['hello', 'world']))\n",
    "print('|'.join(['hello', 'world']))"
   ]
  },
  {
   "cell_type": "code",
   "execution_count": 22,
   "metadata": {},
   "outputs": [
    {
     "name": "stdout",
     "output_type": "stream",
     "text": [
      "5 - test\n",
      "5 - test\n",
      "5 - test\n",
      "5 - test\n"
     ]
    }
   ],
   "source": [
    "# advanced printing\n",
    "x = 5\n",
    "s = 'test'\n",
    "print('%d - %s' % (x, s)) # c style printing\n",
    "print('{} - {}'.format(x, s)) # format style printing\n",
    "print('{:d} - {:s}'.format(x, s)) # format style printing (with types)\n",
    "print(f'{x} - {s}') # f-string printing (new in python 3.6!)"
   ]
  },
  {
   "cell_type": "markdown",
   "metadata": {},
   "source": [
    "## Control Flow"
   ]
  },
  {
   "cell_type": "markdown",
   "metadata": {},
   "source": [
    "### Conditional"
   ]
  },
  {
   "cell_type": "code",
   "execution_count": 23,
   "metadata": {},
   "outputs": [
    {
     "name": "stdout",
     "output_type": "stream",
     "text": [
      "doubling\n",
      "12\n"
     ]
    }
   ],
   "source": [
    "# conditional\n",
    "a = 6\n",
    "if (a < 10) and (a > 3):\n",
    "    a *= 2\n",
    "    print('doubling')\n",
    "print(a)"
   ]
  },
  {
   "cell_type": "markdown",
   "metadata": {},
   "source": [
    "### Looping"
   ]
  },
  {
   "cell_type": "code",
   "execution_count": 24,
   "metadata": {},
   "outputs": [
    {
     "name": "stdout",
     "output_type": "stream",
     "text": [
      "5\n",
      "6\n",
      "7\n",
      "8\n",
      "9\n"
     ]
    }
   ],
   "source": [
    "# basic loop\n",
    "for x in [5, 6, 7, 8, 9]:\n",
    "    print(x)"
   ]
  },
  {
   "cell_type": "code",
   "execution_count": 25,
   "metadata": {},
   "outputs": [
    {
     "name": "stdout",
     "output_type": "stream",
     "text": [
      "0\n",
      "1\n",
      "2\n",
      "3\n",
      "4\n"
     ]
    }
   ],
   "source": [
    "# common loop\n",
    "for x in range(5):\n",
    "    print(x)"
   ]
  },
  {
   "cell_type": "code",
   "execution_count": 26,
   "metadata": {},
   "outputs": [
    {
     "name": "stdout",
     "output_type": "stream",
     "text": [
      "0 9\n",
      "1 8\n",
      "2 7\n",
      "3 6\n",
      "4 5\n"
     ]
    }
   ],
   "source": [
    "# a useful idiom\n",
    "for i, x in enumerate(reversed(range(5, 10))):\n",
    "    print(i, x)"
   ]
  },
  {
   "cell_type": "markdown",
   "metadata": {},
   "source": [
    "### List Comprehensions"
   ]
  },
  {
   "cell_type": "code",
   "execution_count": 27,
   "metadata": {},
   "outputs": [
    {
     "name": "stdout",
     "output_type": "stream",
     "text": [
      "range(0, 10)\n",
      "[0, 1, 2, 3, 4, 5, 6, 7, 8, 9]\n"
     ]
    }
   ],
   "source": [
    "a = range(10)\n",
    "print(a) # hmm - it's an iterator\n",
    "print(list(a))"
   ]
  },
  {
   "cell_type": "code",
   "execution_count": 28,
   "metadata": {},
   "outputs": [
    {
     "name": "stdout",
     "output_type": "stream",
     "text": [
      "[0, 1, 4, 9, 16, 25, 36, 49, 64, 81]\n"
     ]
    }
   ],
   "source": [
    "b = [x**2 for x in a] # like an inline loop\n",
    "print(b)"
   ]
  },
  {
   "cell_type": "code",
   "execution_count": 29,
   "metadata": {},
   "outputs": [
    {
     "name": "stdout",
     "output_type": "stream",
     "text": [
      "[0, 4, 16, 36, 64]\n"
     ]
    }
   ],
   "source": [
    "b = [x**2 for x in a if x % 2 == 0] # only if even\n",
    "print(b)"
   ]
  },
  {
   "cell_type": "code",
   "execution_count": 30,
   "metadata": {},
   "outputs": [
    {
     "name": "stdout",
     "output_type": "stream",
     "text": [
      "{'firstname': 'SEWON', 'lastname': 'HUR'}\n",
      "{'firstname': 'SEWON', 'lastname': 'HUR'}\n"
     ]
    }
   ],
   "source": [
    "# works with dictionaries too!\n",
    "d = {'firstname': 'sewon', 'lastname': 'hur'}\n",
    "d1 = {k: d[k].upper() for k in d}\n",
    "print(d1)\n",
    "d1 = {k: v.upper() for k, v in d.items()}\n",
    "print(d1)"
   ]
  },
  {
   "cell_type": "code",
   "execution_count": 31,
   "metadata": {},
   "outputs": [
    {
     "name": "stdout",
     "output_type": "stream",
     "text": [
      "[(0, 10), (1, 11), (2, 12), (3, 13), (4, 14), (5, 15), (6, 16), (7, 17), (8, 18), (9, 19)]\n",
      "[0, 11, 24, 39, 56, 75, 96, 119, 144, 171]\n"
     ]
    }
   ],
   "source": [
    "# zipping two lists\n",
    "a = range(10)\n",
    "b = range(10, 20)\n",
    "c1 = list(zip(a, b))\n",
    "c2 = [x*y for x, y in zip(a, b)]\n",
    "print(c1)\n",
    "print(c2)"
   ]
  },
  {
   "cell_type": "markdown",
   "metadata": {},
   "source": [
    "## Functions"
   ]
  },
  {
   "cell_type": "code",
   "execution_count": 32,
   "metadata": {},
   "outputs": [
    {
     "data": {
      "text/plain": [
       "15"
      ]
     },
     "execution_count": 32,
     "metadata": {},
     "output_type": "execute_result"
    }
   ],
   "source": [
    "# basic function (indentation matters)\n",
    "def multiply(x, y):\n",
    "    return x*y\n",
    "multiply(5, 3)"
   ]
  },
  {
   "cell_type": "code",
   "execution_count": 33,
   "metadata": {},
   "outputs": [
    {
     "name": "stdout",
     "output_type": "stream",
     "text": [
      "5\n",
      "3\n"
     ]
    }
   ],
   "source": [
    "# keyword arguments with default value (% is modulus)\n",
    "def multiply_mod(x, y, mod=10):\n",
    "    z = x*y\n",
    "    return z % mod\n",
    "print(multiply_mod(5, 3))\n",
    "print(multiply_mod(5, 3, mod=12))"
   ]
  },
  {
   "cell_type": "code",
   "execution_count": 34,
   "metadata": {},
   "outputs": [
    {
     "name": "stdout",
     "output_type": "stream",
     "text": [
      "test:\n",
      "op = add\n",
      "direction = up\n",
      "name = joe\n",
      "level = 7\n"
     ]
    }
   ],
   "source": [
    "# arbirtrary default values: up, direction, name, level could have been anything\n",
    "def run(cmd, **opts):\n",
    "    print('\\n'.join([f'{cmd}:'] + [f'{k} = {v}' for k, v in opts.items()]))\n",
    "run('test', op='add', direction='up', name='joe', level=7)"
   ]
  },
  {
   "cell_type": "code",
   "execution_count": 35,
   "metadata": {},
   "outputs": [
    {
     "name": "stdout",
     "output_type": "stream",
     "text": [
      "{'op': 'add', 'direction': 'up', 'name': 'joe', 'level': 7}\n"
     ]
    }
   ],
   "source": [
    "# here's how it works\n",
    "def func(**kwargs):\n",
    "    print(kwargs)\n",
    "func(op='add', direction='up', name='joe', level=7)"
   ]
  },
  {
   "cell_type": "code",
   "execution_count": 36,
   "metadata": {},
   "outputs": [
    {
     "name": "stdout",
     "output_type": "stream",
     "text": [
      "6\n",
      "6\n"
     ]
    }
   ],
   "source": [
    "# variable length arguments\n",
    "def func(*args):\n",
    "    return sum(args)\n",
    "x1 = func(*range(4))\n",
    "x2 = func(0, 1, 2, 3)\n",
    "print(x1)\n",
    "print(x2)"
   ]
  },
  {
   "cell_type": "markdown",
   "metadata": {},
   "source": [
    "### Lambda functions"
   ]
  },
  {
   "cell_type": "code",
   "execution_count": 37,
   "metadata": {},
   "outputs": [
    {
     "name": "stdout",
     "output_type": "stream",
     "text": [
      "5\n",
      "28\n"
     ]
    }
   ],
   "source": [
    "ident = lambda x: x\n",
    "mult = lambda x, y: x*y\n",
    "print(ident(5))\n",
    "print(mult(4, 7))"
   ]
  },
  {
   "cell_type": "code",
   "execution_count": 38,
   "metadata": {},
   "outputs": [],
   "source": [
    "mult5 = lambda x: mult(5, x)"
   ]
  },
  {
   "cell_type": "markdown",
   "metadata": {},
   "source": [
    "### Functions of functions"
   ]
  },
  {
   "cell_type": "code",
   "execution_count": 39,
   "metadata": {},
   "outputs": [
    {
     "name": "stdout",
     "output_type": "stream",
     "text": [
      "-10 -3\n",
      "2 2\n"
     ]
    }
   ],
   "source": [
    "def bounder(f, a, b):\n",
    "    def fb(x):\n",
    "        return max(a, min(b, f(x)))\n",
    "    return fb\n",
    "g = lambda x: 2*x\n",
    "g1 = bounder(g, -3, 3)\n",
    "print(g(-5), g1(-5))\n",
    "print(g(1), g1(1))"
   ]
  },
  {
   "cell_type": "code",
   "execution_count": 40,
   "metadata": {},
   "outputs": [
    {
     "name": "stdout",
     "output_type": "stream",
     "text": [
      "-30\n",
      "-30\n"
     ]
    }
   ],
   "source": [
    "def negate(f):\n",
    "    def fn(x):\n",
    "        return -f(x)\n",
    "    return fn\n",
    "\n",
    "# this is called a decorator\n",
    "@negate\n",
    "def h1(x):\n",
    "    return 3*x\n",
    "print(h1(10))\n",
    "\n",
    "# this is equivalent to\n",
    "def h(x):\n",
    "    return 3*x\n",
    "h2 = negate(h)\n",
    "print(h2(10))"
   ]
  },
  {
   "cell_type": "markdown",
   "metadata": {},
   "source": [
    "# Modules"
   ]
  },
  {
   "cell_type": "code",
   "execution_count": 41,
   "metadata": {},
   "outputs": [],
   "source": [
    "# get acces to more functionality beyond builtins\n",
    "import re # regular expressions"
   ]
  },
  {
   "cell_type": "code",
   "execution_count": 42,
   "metadata": {},
   "outputs": [
    {
     "data": {
      "text/plain": [
       "'their social is xxx-xx-xxxx, fyi'"
      ]
     },
     "execution_count": 42,
     "metadata": {},
     "output_type": "execute_result"
    }
   ],
   "source": [
    "re.sub(r'[0-9]{3}-[0-9]{2}-[0-9]{4}', 'xxx-xx-xxxx', 'their social is 123-45-6789, fyi')"
   ]
  },
  {
   "cell_type": "code",
   "execution_count": 43,
   "metadata": {},
   "outputs": [
    {
     "name": "stdout",
     "output_type": "stream",
     "text": [
      "whats with all this silly punctuation \n"
     ]
    }
   ],
   "source": [
    "s = \"what's with;all, this--silly punctuation!?\"\n",
    "s1 = re.sub(r'[^a-z\\']', ' ', s)\n",
    "s1 = re.sub(r'\\'', '', s1)\n",
    "s1 = re.sub(r' +', ' ', s1)\n",
    "print(s1)"
   ]
  },
  {
   "cell_type": "code",
   "execution_count": 44,
   "metadata": {},
   "outputs": [],
   "source": [
    "from collections import defaultdict"
   ]
  },
  {
   "cell_type": "code",
   "execution_count": 45,
   "metadata": {},
   "outputs": [
    {
     "data": {
      "text/plain": [
       "['the', 'sly', 'fox', 'jumped', 'over', 'the', 'lazy', 'dog']"
      ]
     },
     "execution_count": 45,
     "metadata": {},
     "output_type": "execute_result"
    }
   ],
   "source": [
    "'the sly fox jumped over the lazy dog'.split()"
   ]
  },
  {
   "cell_type": "code",
   "execution_count": 46,
   "metadata": {},
   "outputs": [
    {
     "data": {
      "text/plain": [
       "defaultdict(list,\n",
       "            {3: ['the', 'sly', 'fox', 'the', 'dog'],\n",
       "             6: ['jumped'],\n",
       "             4: ['over', 'lazy']})"
      ]
     },
     "execution_count": 46,
     "metadata": {},
     "output_type": "execute_result"
    }
   ],
   "source": [
    "s = 'the sly fox jumped over the lazy dog'\n",
    "d = defaultdict(list)\n",
    "for w in s.split():\n",
    "    d[len(w)] += [w]\n",
    "d"
   ]
  },
  {
   "cell_type": "code",
   "execution_count": 47,
   "metadata": {},
   "outputs": [
    {
     "data": {
      "text/plain": [
       "{3: 5, 6: 1, 4: 2}"
      ]
     },
     "execution_count": 47,
     "metadata": {},
     "output_type": "execute_result"
    }
   ],
   "source": [
    "{k: len(v) for k, v in d.items()}"
   ]
  },
  {
   "cell_type": "markdown",
   "metadata": {},
   "source": [
    "# Numerics"
   ]
  },
  {
   "cell_type": "code",
   "execution_count": 48,
   "metadata": {},
   "outputs": [],
   "source": [
    "import numpy as np"
   ]
  },
  {
   "cell_type": "code",
   "execution_count": 49,
   "metadata": {},
   "outputs": [
    {
     "data": {
      "text/plain": [
       "array([1., 1., 1., 1., 1., 1., 1., 1., 1., 1.])"
      ]
     },
     "execution_count": 49,
     "metadata": {},
     "output_type": "execute_result"
    }
   ],
   "source": [
    "np.ones(10) # similar to matlab"
   ]
  },
  {
   "cell_type": "code",
   "execution_count": 50,
   "metadata": {},
   "outputs": [
    {
     "name": "stdout",
     "output_type": "stream",
     "text": [
      "[ 5  7  9 11 13 15 17 19 21]\n"
     ]
    }
   ],
   "source": [
    "# ranges\n",
    "a = np.arange(5, 22, 2)\n",
    "print(a)"
   ]
  },
  {
   "cell_type": "code",
   "execution_count": 51,
   "metadata": {},
   "outputs": [
    {
     "name": "stdout",
     "output_type": "stream",
     "text": [
      "[0 1 2 3 4 5 6 7 8 9]\n",
      "0\n",
      "[3 4 5 6 7 8 9]\n",
      "[0 1 2 3 4 5 6 7 8]\n",
      "[3 4]\n"
     ]
    }
   ],
   "source": [
    "# indexing\n",
    "a = np.arange(10)\n",
    "print(a)\n",
    "print(a[0]) # zero indexed!\n",
    "print(a[3:]) # no 'end' needed\n",
    "print(a[:-1]) # negatives index from end\n",
    "print(a[3:5]) # second index is non-inclusive"
   ]
  },
  {
   "cell_type": "code",
   "execution_count": 52,
   "metadata": {},
   "outputs": [],
   "source": [
    "a = np.arange(10)\n",
    "b = np.arange(10)"
   ]
  },
  {
   "cell_type": "code",
   "execution_count": 53,
   "metadata": {},
   "outputs": [
    {
     "data": {
      "text/plain": [
       "array([[0],\n",
       "       [1],\n",
       "       [2],\n",
       "       [3],\n",
       "       [4],\n",
       "       [5],\n",
       "       [6],\n",
       "       [7],\n",
       "       [8],\n",
       "       [9]])"
      ]
     },
     "execution_count": 53,
     "metadata": {},
     "output_type": "execute_result"
    }
   ],
   "source": [
    "a[:, None]"
   ]
  },
  {
   "cell_type": "code",
   "execution_count": 54,
   "metadata": {},
   "outputs": [
    {
     "data": {
      "text/plain": [
       "array([[0, 1, 2, 3, 4, 5, 6, 7, 8, 9]])"
      ]
     },
     "execution_count": 54,
     "metadata": {},
     "output_type": "execute_result"
    }
   ],
   "source": [
    "b[None, :]"
   ]
  },
  {
   "cell_type": "code",
   "execution_count": 55,
   "metadata": {},
   "outputs": [
    {
     "data": {
      "text/plain": [
       "array([[ 0,  1,  2,  3,  4,  5,  6,  7,  8,  9],\n",
       "       [ 1,  2,  3,  4,  5,  6,  7,  8,  9, 10],\n",
       "       [ 2,  3,  4,  5,  6,  7,  8,  9, 10, 11],\n",
       "       [ 3,  4,  5,  6,  7,  8,  9, 10, 11, 12],\n",
       "       [ 4,  5,  6,  7,  8,  9, 10, 11, 12, 13],\n",
       "       [ 5,  6,  7,  8,  9, 10, 11, 12, 13, 14],\n",
       "       [ 6,  7,  8,  9, 10, 11, 12, 13, 14, 15],\n",
       "       [ 7,  8,  9, 10, 11, 12, 13, 14, 15, 16],\n",
       "       [ 8,  9, 10, 11, 12, 13, 14, 15, 16, 17],\n",
       "       [ 9, 10, 11, 12, 13, 14, 15, 16, 17, 18]])"
      ]
     },
     "execution_count": 55,
     "metadata": {},
     "output_type": "execute_result"
    }
   ],
   "source": [
    "# adding dimensions with indexing\n",
    "a[:, None] + b[None, :]"
   ]
  },
  {
   "cell_type": "code",
   "execution_count": 56,
   "metadata": {},
   "outputs": [
    {
     "data": {
      "text/plain": [
       "array([ 0,  1,  4,  9, 16, 25, 36, 49, 64, 81])"
      ]
     },
     "execution_count": 56,
     "metadata": {},
     "output_type": "execute_result"
    }
   ],
   "source": [
    "# multiplication is element-wise by default (like .* in matlab)\n",
    "np.arange(10) * np.arange(10)"
   ]
  },
  {
   "cell_type": "code",
   "execution_count": 57,
   "metadata": {},
   "outputs": [
    {
     "data": {
      "text/plain": [
       "array([[ 50,  55,  60,  65,  70,  75,  80,  85,  90,  95],\n",
       "       [ 60,  66,  72,  78,  84,  90,  96, 102, 108, 114],\n",
       "       [ 70,  77,  84,  91,  98, 105, 112, 119, 126, 133],\n",
       "       [ 80,  88,  96, 104, 112, 120, 128, 136, 144, 152],\n",
       "       [ 90,  99, 108, 117, 126, 135, 144, 153, 162, 171],\n",
       "       [100, 110, 120, 130, 140, 150, 160, 170, 180, 190],\n",
       "       [110, 121, 132, 143, 154, 165, 176, 187, 198, 209],\n",
       "       [120, 132, 144, 156, 168, 180, 192, 204, 216, 228],\n",
       "       [130, 143, 156, 169, 182, 195, 208, 221, 234, 247],\n",
       "       [140, 154, 168, 182, 196, 210, 224, 238, 252, 266]])"
      ]
     },
     "execution_count": 57,
     "metadata": {},
     "output_type": "execute_result"
    }
   ],
   "source": [
    "# broadcasting is a game changer\n",
    "np.arange(10, 20)[None, :]*np.arange(5,15)[:, None]"
   ]
  },
  {
   "cell_type": "code",
   "execution_count": 58,
   "metadata": {},
   "outputs": [
    {
     "name": "stdout",
     "output_type": "stream",
     "text": [
      "[[-1.3514919  -2.19710089  3.04090321  2.98910783 -1.4815549 ]\n",
      " [ 0.30756548  3.15685202 -4.14086504 -1.56724056  2.15160367]\n",
      " [ 2.4218957   1.06692366 -3.93199615 -1.81422006  1.99075331]\n",
      " [-1.12923781 -2.99150367  8.28929557  3.12299953 -5.88490957]\n",
      " [ 0.9722837   3.73451194 -8.16110188 -4.10569202  7.17385468]]\n",
      "[[ 1.00000000e+00  7.63383427e-17 -1.65495798e-18 -8.97411122e-17\n",
      "   6.25886367e-17]\n",
      " [-1.16190960e-17  1.00000000e+00 -1.99811929e-16  3.58913686e-16\n",
      "  -6.56067819e-16]\n",
      " [ 9.89181851e-17 -4.35597580e-16  1.00000000e+00  1.37664117e-17\n",
      "  -7.77414814e-16]\n",
      " [ 1.11085538e-16 -4.84781620e-17  5.54259408e-17  1.00000000e+00\n",
      "  -2.53415738e-16]\n",
      " [ 1.50437246e-16 -2.05705391e-16 -1.19939996e-15 -4.26159318e-17\n",
      "   1.00000000e+00]]\n"
     ]
    }
   ],
   "source": [
    "m = np.random.rand(5, 5)\n",
    "mi = np.linalg.inv(m)\n",
    "print(mi)\n",
    "print(np.dot(m, mi))"
   ]
  },
  {
   "cell_type": "code",
   "execution_count": 59,
   "metadata": {},
   "outputs": [
    {
     "data": {
      "text/plain": [
       "array([2, 4, 4, 4, 2, 0, 4, 2, 0, 1])"
      ]
     },
     "execution_count": 59,
     "metadata": {},
     "output_type": "execute_result"
    }
   ],
   "source": [
    "np.random.randint(5, size=10)"
   ]
  },
  {
   "cell_type": "markdown",
   "metadata": {},
   "source": [
    "# Plotting"
   ]
  },
  {
   "cell_type": "code",
   "execution_count": 60,
   "metadata": {},
   "outputs": [],
   "source": [
    "import matplotlib as mpl\n",
    "import matplotlib.pyplot as plt\n",
    "mpl.style.use('config/clean.mplstyle') # this loads my personal plotting settings\n",
    "%matplotlib inline"
   ]
  },
  {
   "cell_type": "code",
   "execution_count": 61,
   "metadata": {},
   "outputs": [],
   "source": [
    "# if you have an HD display\n",
    "%config InlineBackend.figure_format = 'retina'"
   ]
  },
  {
   "cell_type": "code",
   "execution_count": 62,
   "metadata": {},
   "outputs": [
    {
     "data": {
      "image/png": "[encoded data removed]",
      "text/plain": [
       "<Figure size 432x288 with 1 Axes>"
      ]
     },
     "metadata": {
      "image/png": {
       "height": 256,
       "width": 369
      },
      "needs_background": "light"
     },
     "output_type": "display_data"
    }
   ],
   "source": [
    "plt.plot(np.arange(10, 20), np.arange(10));"
   ]
  },
  {
   "cell_type": "code",
   "execution_count": 63,
   "metadata": {},
   "outputs": [
    {
     "data": {
      "image/png": "[encoded data removed]",
      "text/plain": [
       "<Figure size 432x288 with 1 Axes>"
      ]
     },
     "metadata": {
      "image/png": {
       "height": 256,
       "width": 385
      },
      "needs_background": "light"
     },
     "output_type": "display_data"
    }
   ],
   "source": [
    "plt.hist(np.random.randn(1000));"
   ]
  },
  {
   "cell_type": "markdown",
   "metadata": {},
   "source": [
    "## Exercise 1"
   ]
  },
  {
   "cell_type": "markdown",
   "metadata": {},
   "source": [
    "1. Generate a bunch of random sentences\n",
    "2. Compute word counts and word frequencies for each\n",
    "3. Plot distribution of frequency and log frequency"
   ]
  },
  {
   "cell_type": "markdown",
   "metadata": {},
   "source": [
    "## More Plotting"
   ]
  },
  {
   "cell_type": "code",
   "execution_count": 64,
   "metadata": {},
   "outputs": [
    {
     "data": {
      "image/png": "[encoded data removed]",
      "text/plain": [
       "<Figure size 432x288 with 1 Axes>"
      ]
     },
     "metadata": {
      "image/png": {
       "height": 256,
       "width": 388
      },
      "needs_background": "light"
     },
     "output_type": "display_data"
    }
   ],
   "source": [
    "plt.plot(np.cumsum(np.random.randn(1000)));"
   ]
  },
  {
   "cell_type": "code",
   "execution_count": 65,
   "metadata": {},
   "outputs": [
    {
     "data": {
      "image/png": "[encoded data removed]",
      "text/plain": [
       "<Figure size 432x288 with 1 Axes>"
      ]
     },
     "metadata": {
      "image/png": {
       "height": 261,
       "width": 388
      },
      "needs_background": "light"
     },
     "output_type": "display_data"
    }
   ],
   "source": [
    "plt.plot(np.cumsum(np.random.randn(1000, 2), axis=0));"
   ]
  },
  {
   "cell_type": "code",
   "execution_count": 66,
   "metadata": {},
   "outputs": [
    {
     "name": "stdout",
     "output_type": "stream",
     "text": [
      "[-0.7677303   0.76461078]\n"
     ]
    },
    {
     "data": {
      "image/png": "[encoded data removed]",
      "text/plain": [
       "<Figure size 432x288 with 1 Axes>"
      ]
     },
     "metadata": {
      "image/png": {
       "height": 256,
       "width": 390
      },
      "needs_background": "light"
     },
     "output_type": "display_data"
    }
   ],
   "source": [
    "N = 10000\n",
    "path_gen = lambda: np.cumsum(np.random.randn(1000, 2), axis=0)\n",
    "rhos = np.array([np.corrcoef(path_gen().T)[0, 1] for i in range(N)])\n",
    "print(np.percentile(rhos, [5, 95]))\n",
    "plt.hist(rhos, bins=50);"
   ]
  },
  {
   "cell_type": "code",
   "execution_count": 67,
   "metadata": {},
   "outputs": [
    {
     "name": "stdout",
     "output_type": "stream",
     "text": [
      "[-0.05151218  0.05182852]\n"
     ]
    },
    {
     "data": {
      "image/png": "[encoded data removed]",
      "text/plain": [
       "<Figure size 432x288 with 1 Axes>"
      ]
     },
     "metadata": {
      "image/png": {
       "height": 256,
       "width": 385
      },
      "needs_background": "light"
     },
     "output_type": "display_data"
    }
   ],
   "source": [
    "N = 10000\n",
    "path_gen = lambda: np.random.randn(1000, 2)\n",
    "rhos = np.array([np.corrcoef(path_gen().T)[0, 1] for _ in range(N)])\n",
    "print(np.percentile(rhos, [5, 95]))\n",
    "plt.hist(rhos, bins=50);"
   ]
  },
  {
   "cell_type": "markdown",
   "metadata": {},
   "source": [
    "## Exercise 2"
   ]
  },
  {
   "cell_type": "markdown",
   "metadata": {},
   "source": [
    "Do the same but for an AR(1)."
   ]
  },
  {
   "cell_type": "markdown",
   "metadata": {},
   "source": [
    "# Input/Output"
   ]
  },
  {
   "cell_type": "code",
   "execution_count": 68,
   "metadata": {},
   "outputs": [
    {
     "data": {
      "text/plain": [
       "array([[0.22939408, 0.13808133, 0.08663747, 0.0513355 , 0.28224356],\n",
       "       [0.46243248, 0.58029736, 0.25470081, 0.80630866, 0.53905159],\n",
       "       [0.07616578, 0.00727764, 0.5553547 , 0.29893926, 0.50461624],\n",
       "       [0.07944683, 0.61727115, 0.53627617, 0.36619614, 0.29083245],\n",
       "       [0.02052756, 0.48415461, 0.35063175, 0.35742091, 0.25870095],\n",
       "       [0.17758626, 0.39689911, 0.23893243, 0.28577363, 0.37025164],\n",
       "       [0.23514547, 0.50738886, 0.04330456, 0.87305067, 0.11116288],\n",
       "       [0.22400928, 0.45369149, 0.29606017, 0.79158681, 0.45212973],\n",
       "       [0.531711  , 0.13331654, 0.77597525, 0.36965368, 0.12172548],\n",
       "       [0.65051211, 0.50940043, 0.88000506, 0.9170793 , 0.71808667],\n",
       "       [0.39601528, 0.52220066, 0.1289438 , 0.53016265, 0.55998363],\n",
       "       [0.05669997, 0.50382653, 0.82585658, 0.76306954, 0.50341303],\n",
       "       [0.81414808, 0.71006291, 0.61802583, 0.70376648, 0.29842186],\n",
       "       [0.06169355, 0.19611882, 0.47221214, 0.46733865, 0.65465439],\n",
       "       [0.52092606, 0.65734761, 0.13220542, 0.0986766 , 0.4297648 ],\n",
       "       [0.09678947, 0.14890368, 0.22252079, 0.87942216, 0.5281987 ],\n",
       "       [0.64094806, 0.06345811, 0.55543901, 0.38529093, 0.84372973],\n",
       "       [0.50334881, 0.09862223, 0.66933791, 0.87606612, 0.1287487 ],\n",
       "       [0.57008726, 0.70765609, 0.83483831, 0.11127909, 0.11470669],\n",
       "       [0.66310748, 0.3054756 , 0.90204225, 0.20778517, 0.60954914]])"
      ]
     },
     "execution_count": 68,
     "metadata": {},
     "output_type": "execute_result"
    }
   ],
   "source": [
    "N, M = 20, 5\n",
    "dat = np.random.rand(N, M)\n",
    "dat"
   ]
  },
  {
   "cell_type": "code",
   "execution_count": 69,
   "metadata": {},
   "outputs": [],
   "source": [
    "with open('output/test.csv', 'w+') as fid:\n",
    "    fid.write(','.join([f'col{i}' for i in range(dat.shape[1])])+'\\n')\n",
    "    for row in dat:\n",
    "        fid.write(','.join([f'{x:.5f}' for x in row])+'\\n')"
   ]
  },
  {
   "cell_type": "code",
   "execution_count": 70,
   "metadata": {},
   "outputs": [
    {
     "name": "stdout",
     "output_type": "stream",
     "text": [
      "col0,col1,col2,col3,col4\n",
      "0.22939,0.13808,0.08664,0.05134,0.28224\n",
      "0.46243,0.58030,0.25470,0.80631,0.53905\n",
      "0.07617,0.00728,0.55535,0.29894,0.50462\n",
      "0.07945,0.61727,0.53628,0.36620,0.29083\n",
      "0.02053,0.48415,0.35063,0.35742,0.25870\n",
      "0.17759,0.39690,0.23893,0.28577,0.37025\n",
      "0.23515,0.50739,0.04330,0.87305,0.11116\n",
      "0.22401,0.45369,0.29606,0.79159,0.45213\n",
      "0.53171,0.13332,0.77598,0.36965,0.12173\n",
      "0.65051,0.50940,0.88001,0.91708,0.71809\n",
      "0.39602,0.52220,0.12894,0.53016,0.55998\n",
      "0.05670,0.50383,0.82586,0.76307,0.50341\n",
      "0.81415,0.71006,0.61803,0.70377,0.29842\n",
      "0.06169,0.19612,0.47221,0.46734,0.65465\n",
      "0.52093,0.65735,0.13221,0.09868,0.42976\n",
      "0.09679,0.14890,0.22252,0.87942,0.52820\n",
      "0.64095,0.06346,0.55544,0.38529,0.84373\n",
      "0.50335,0.09862,0.66934,0.87607,0.12875\n",
      "0.57009,0.70766,0.83484,0.11128,0.11471\n",
      "0.66311,0.30548,0.90204,0.20779,0.60955\n",
      "\n"
     ]
    }
   ],
   "source": [
    "with open('output/test.csv') as fid:\n",
    "    print(fid.read())"
   ]
  },
  {
   "cell_type": "code",
   "execution_count": 71,
   "metadata": {},
   "outputs": [
    {
     "name": "stdout",
     "output_type": "stream",
     "text": [
      "['col0', 'col1', 'col2', 'col3', 'col4']\n"
     ]
    },
    {
     "name": "stderr",
     "output_type": "stream",
     "text": [
      "<ipython-input-71-224fea47fe13>:4: DeprecationWarning: `np.float` is a deprecated alias for the builtin `float`. To silence this warning, use `float` by itself. Doing this will not modify any behavior and is safe. If you specifically wanted the numpy scalar type, use `np.float64` here.\n",
      "Deprecated in NumPy 1.20; for more details and guidance: https://numpy.org/devdocs/release/1.20.0-notes.html#deprecations\n",
      "  rdat = np.array([x.strip().split(',') for x in rows[1:]]).astype(np.float)\n"
     ]
    },
    {
     "data": {
      "text/plain": [
       "array([[0.22939, 0.13808, 0.08664, 0.05134, 0.28224],\n",
       "       [0.46243, 0.5803 , 0.2547 , 0.80631, 0.53905],\n",
       "       [0.07617, 0.00728, 0.55535, 0.29894, 0.50462],\n",
       "       [0.07945, 0.61727, 0.53628, 0.3662 , 0.29083],\n",
       "       [0.02053, 0.48415, 0.35063, 0.35742, 0.2587 ],\n",
       "       [0.17759, 0.3969 , 0.23893, 0.28577, 0.37025],\n",
       "       [0.23515, 0.50739, 0.0433 , 0.87305, 0.11116],\n",
       "       [0.22401, 0.45369, 0.29606, 0.79159, 0.45213],\n",
       "       [0.53171, 0.13332, 0.77598, 0.36965, 0.12173],\n",
       "       [0.65051, 0.5094 , 0.88001, 0.91708, 0.71809],\n",
       "       [0.39602, 0.5222 , 0.12894, 0.53016, 0.55998],\n",
       "       [0.0567 , 0.50383, 0.82586, 0.76307, 0.50341],\n",
       "       [0.81415, 0.71006, 0.61803, 0.70377, 0.29842],\n",
       "       [0.06169, 0.19612, 0.47221, 0.46734, 0.65465],\n",
       "       [0.52093, 0.65735, 0.13221, 0.09868, 0.42976],\n",
       "       [0.09679, 0.1489 , 0.22252, 0.87942, 0.5282 ],\n",
       "       [0.64095, 0.06346, 0.55544, 0.38529, 0.84373],\n",
       "       [0.50335, 0.09862, 0.66934, 0.87607, 0.12875],\n",
       "       [0.57009, 0.70766, 0.83484, 0.11128, 0.11471],\n",
       "       [0.66311, 0.30548, 0.90204, 0.20779, 0.60955]])"
      ]
     },
     "execution_count": 71,
     "metadata": {},
     "output_type": "execute_result"
    }
   ],
   "source": [
    "with open('output/test.csv') as fid:\n",
    "    rows = list(fid)\n",
    "names = rows[0].strip().split(',')\n",
    "rdat = np.array([x.strip().split(',') for x in rows[1:]]).astype(np.float)\n",
    "print(names)\n",
    "rdat"
   ]
  },
  {
   "cell_type": "markdown",
   "metadata": {},
   "source": [
    "# Jupyter Tricks"
   ]
  },
  {
   "cell_type": "code",
   "execution_count": 72,
   "metadata": {},
   "outputs": [],
   "source": [
    "from IPython.core.display import display, HTML\n",
    "import ipywidgets as widgets\n",
    "from ipywidgets import interactive"
   ]
  },
  {
   "cell_type": "code",
   "execution_count": 73,
   "metadata": {},
   "outputs": [
    {
     "data": {
      "text/html": [
       "<b>Hello, world!</b>"
      ],
      "text/plain": [
       "<IPython.core.display.HTML object>"
      ]
     },
     "metadata": {},
     "output_type": "display_data"
    }
   ],
   "source": [
    "display(HTML('<b>Hello, world!</b>'))"
   ]
  },
  {
   "cell_type": "code",
   "execution_count": 74,
   "metadata": {},
   "outputs": [
    {
     "data": {
      "text/html": [
       "\n",
       "<table>\n",
       "<tr><th>a</th><th>b</th></tr>\n",
       "<tr><td>1</td><td>2</td></tr>\n",
       "<tr><td>3</td><td>4</td></tr>\n",
       "</table>\n"
      ],
      "text/plain": [
       "<IPython.core.display.HTML object>"
      ]
     },
     "metadata": {},
     "output_type": "display_data"
    }
   ],
   "source": [
    "display(HTML(\"\"\"\n",
    "<table>\n",
    "<tr><th>a</th><th>b</th></tr>\n",
    "<tr><td>1</td><td>2</td></tr>\n",
    "<tr><td>3</td><td>4</td></tr>\n",
    "</table>\n",
    "\"\"\"))"
   ]
  },
  {
   "cell_type": "code",
   "execution_count": 75,
   "metadata": {},
   "outputs": [],
   "source": [
    "dat = np.cumsum(np.random.randn(1000))"
   ]
  },
  {
   "cell_type": "code",
   "execution_count": 78,
   "metadata": {},
   "outputs": [
    {
     "data": {
      "application/vnd.jupyter.widget-view+json": {
       "model_id": "2b8b54cdfc224586baffeabcca99fe90",
       "version_major": 2,
       "version_minor": 0
      },
      "text/plain": [
       "interactive(children=(IntSlider(value=250, description='p', max=500, min=1), Output()), _dom_classes=('widget-…"
      ]
     },
     "metadata": {},
     "output_type": "display_data"
    }
   ],
   "source": [
    "def smoothed(p):\n",
    "    plt.plot(pd.Series(dat).rolling(p).mean())\n",
    "    plt.show()\n",
    "interactive(smoothed, p=(1, 500))"
   ]
  },
  {
   "cell_type": "code",
   "execution_count": 77,
   "metadata": {},
   "outputs": [
    {
     "data": {
      "application/vnd.jupyter.widget-view+json": {
       "model_id": "736b837cf91c48ec9b16b28d1d4dd5a9",
       "version_major": 2,
       "version_minor": 0
      },
      "text/plain": [
       "interactive(children=(IntSlider(value=20, description='wind', max=500, step=5), Output()), layout=Layout(heigh…"
      ]
     },
     "metadata": {},
     "output_type": "display_data"
    }
   ],
   "source": [
    "# much slicker version\n",
    "ymin, ymax = np.min(dat), np.max(dat)\n",
    "yrange = ymax - ymin\n",
    "ymin -= 0.1*yrange\n",
    "ymax += 0.1*yrange\n",
    "def smoothed(wind):\n",
    "    wind = max(1, wind)\n",
    "    fig, ax = plt.subplots()\n",
    "    pd.Series(dat).rolling(wind, min_periods=0, center=True).mean().plot(ax=ax)\n",
    "    ax.set_ylim(ymin, ymax)\n",
    "    plt.show()\n",
    "slider = widgets.IntSlider(min=0, max=500, step=5, value=20)\n",
    "interactive_plot = interactive(smoothed, wind=slider)\n",
    "interactive_plot.layout.height = '300px'\n",
    "interactive_plot"
   ]
  },
  {
   "cell_type": "markdown",
   "metadata": {},
   "source": [
    "# Other Resources"
   ]
  },
  {
   "cell_type": "markdown",
   "metadata": {},
   "source": [
    "Amazing and fun talk by David Beazley on practical Python usage: https://www.youtube.com/watch?v=lyDLAutA88s"
   ]
  },
  {
   "cell_type": "code",
   "execution_count": null,
   "metadata": {},
   "outputs": [],
   "source": []
  }
 ],
 "metadata": {
  "kernelspec": {
   "display_name": "Python 3",
   "language": "python",
   "name": "python3"
  },
  "language_info": {
   "codemirror_mode": {
    "name": "ipython",
    "version": 3
   },
   "file_extension": ".py",
   "mimetype": "text/x-python",
   "name": "python",
   "nbconvert_exporter": "python",
   "pygments_lexer": "ipython3",
   "version": "3.9.14"
  }
 },
 "nbformat": 4,
 "nbformat_minor": 4
}
