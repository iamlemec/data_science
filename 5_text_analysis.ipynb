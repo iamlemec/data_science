{
 "cells": [
  {
   "cell_type": "markdown",
   "id": "740f3f3f-09e0-4844-92a0-e426a51e0326",
   "metadata": {},
   "source": [
    "# Text Analysis"
   ]
  },
  {
   "cell_type": "markdown",
   "id": "94f31fe9-352a-49db-ae5c-33deffa209e0",
   "metadata": {},
   "source": [
    "This is gonna be runnable but quite slow on a CPU. Best to find yourself a GPU!"
   ]
  },
  {
   "cell_type": "code",
   "execution_count": 1,
   "id": "15667a8b-cde8-47cb-ad56-62ffac50f36b",
   "metadata": {},
   "outputs": [],
   "source": [
    "import re\n",
    "import numpy as np\n",
    "import pandas as pd\n",
    "import matplotlib.pyplot as plt\n",
    "import torch\n",
    "import torchtext"
   ]
  },
  {
   "cell_type": "code",
   "execution_count": 2,
   "id": "25d484ce-a24e-4f47-a780-b3a7de578b59",
   "metadata": {},
   "outputs": [],
   "source": [
    "# configure matplotlib output\n",
    "import matplotlib as mpl\n",
    "mpl.style.use('config/clean.mplstyle') # this loads my personal plotting settings\n",
    "%matplotlib inline"
   ]
  },
  {
   "cell_type": "code",
   "execution_count": 3,
   "id": "8757c1bd-b20f-4c5b-8822-93c5375dfccd",
   "metadata": {},
   "outputs": [],
   "source": [
    "# if you have an HD display\n",
    "%config InlineBackend.figure_format = 'retina'"
   ]
  },
  {
   "cell_type": "code",
   "execution_count": 4,
   "id": "d69e807b-1a6e-494a-80ae-aada9885ecc3",
   "metadata": {},
   "outputs": [],
   "source": [
    "# warnings are again annoying\n",
    "import warnings\n",
    "warnings.filterwarnings('ignore')"
   ]
  },
  {
   "cell_type": "code",
   "execution_count": 5,
   "id": "f913249b-4308-4c4c-ad04-adfe7b1054e8",
   "metadata": {},
   "outputs": [
    {
     "name": "stdout",
     "output_type": "stream",
     "text": [
      "cuda\n"
     ]
    }
   ],
   "source": [
    "# use gpu if available\n",
    "device = 'cuda' if torch.has_cuda else 'cpu'\n",
    "print(device)"
   ]
  },
  {
   "cell_type": "markdown",
   "id": "9b8c416f-d0f5-4d1d-be0e-08705eadd173",
   "metadata": {},
   "source": [
    "### Utils"
   ]
  },
  {
   "cell_type": "code",
   "execution_count": 6,
   "id": "fd27d2c4-ce87-400c-9ebb-30caaa2fcb72",
   "metadata": {},
   "outputs": [],
   "source": [
    "def vectorize_string(prompt, L, pad=None):\n",
    "    tokens = prompt.split()\n",
    "    ntoks = len(tokens)\n",
    "    if ntoks < L:\n",
    "        tokens = ['<unk>']*(L-ntoks) + tokens\n",
    "    elif ntoks > L:\n",
    "        tokens = tokens[-L:]\n",
    "    indices = torch.tensor(vocab.lookup_indices(tokens))\n",
    "    return indices"
   ]
  },
  {
   "cell_type": "code",
   "execution_count": 7,
   "id": "302729ad-79ea-4915-893e-d34ac3f11e6b",
   "metadata": {},
   "outputs": [],
   "source": [
    "def sample_dist(lprobs, temp=None):\n",
    "    tprobs = lprobs.exp().pow(1/temp)\n",
    "    return torch.multinomial(tprobs, 1)"
   ]
  },
  {
   "cell_type": "code",
   "execution_count": 60,
   "id": "3dd0e10a-45d7-43a9-aad6-97ed576a4f0f",
   "metadata": {},
   "outputs": [],
   "source": [
    "def print_tokens(tokens):\n",
    "    s = ' '.join(tokens)\n",
    "    s = re.sub(r' \\n ', r'\\n\\n', s)\n",
    "    s = re.sub(r' (,|\\.|!|\\?) ', r'\\1 ', s)\n",
    "    s = re.sub(r'<unk>', r'', s)\n",
    "    s = re.sub(r' {2,}', r' ', s)\n",
    "    s = re.sub(r'(^ +| +$)', r'', s, flags=re.MULTILINE)\n",
    "    return s"
   ]
  },
  {
   "cell_type": "markdown",
   "id": "e3b82da8-41fb-4e5f-84f8-1748d7c36c57",
   "metadata": {},
   "source": [
    "### Load Data"
   ]
  },
  {
   "cell_type": "code",
   "execution_count": 49,
   "id": "44779249-09c9-4160-967b-1b8f9a087f16",
   "metadata": {},
   "outputs": [],
   "source": [
    "def process_text(s):\n",
    "    # merge punctuation\n",
    "    s = re.sub(r'(;|\\-\\-)', r',', s)\n",
    "    s = re.sub(r'\\-', ' ', s)\n",
    "    s = re.sub(r'(,|\\.|!|\\?|\")', r' \\1 ', s)\n",
    "\n",
    "    # merge whitespace\n",
    "    s = re.sub(r'(?<!\\n)\\n(?!\\n)', ' ', s)\n",
    "    s = re.sub(r'\\n{2,}', '\\n', s)\n",
    "    s = re.sub(r' {2,}', ' ', s)\n",
    "\n",
    "    # strip lines\n",
    "    s = re.sub(r'(^ +| +$)', r'', s, flags=re.MULTILINE)\n",
    "    s = re.sub(r'\\n', r' \\n ', s)\n",
    "\n",
    "    return s.lower()"
   ]
  },
  {
   "cell_type": "code",
   "execution_count": 50,
   "id": "6749cffa-7588-4a57-84b8-40c8665d85b5",
   "metadata": {},
   "outputs": [],
   "source": [
    "# load in text data\n",
    "with open('data/melville-moby_dick.txt') as fid:\n",
    "    moby = fid.read()"
   ]
  },
  {
   "cell_type": "code",
   "execution_count": 53,
   "id": "330e7e46-af3c-4599-8b8e-1b16e4d337a3",
   "metadata": {},
   "outputs": [
    {
     "name": "stdout",
     "output_type": "stream",
     "text": [
      "chapter 1 \n",
      " loomings . \n",
      " call me ishmael . some years ago , never mind how long precisely , having little or no money in my purse , and nothing particular to interest me on shore , i thought i would sail about a little and see the watery part of the world . it is a way i have of driving off the sple\n",
      "\n",
      "...\n",
      "\n",
      "y glided by as if with padlocks on their mouths , the savage sea hawks sailed with sheathed beaks . on the second day , a sail drew near , nearer , and picked me up at last . it was the devious cruising rachel , that in her retracing search after her missing children , only found another orphan . \n",
      " \n"
     ]
    }
   ],
   "source": [
    "# process text\n",
    "text = process_text(moby[21444:])\n",
    "print(text[:300])\n",
    "print('\\n...\\n')\n",
    "print(text[-300:])"
   ]
  },
  {
   "cell_type": "code",
   "execution_count": 54,
   "id": "fa68b00a-091b-4706-bb28-52c1c9811bd0",
   "metadata": {},
   "outputs": [
    {
     "name": "stdout",
     "output_type": "stream",
     "text": [
      "252984\n"
     ]
    }
   ],
   "source": [
    "# make vocab and digitize\n",
    "tokens = text.split(' ')\n",
    "vocab = torchtext.vocab.build_vocab_from_iterator([tokens], min_freq=2, specials=[\"<unk>\"])\n",
    "vocab.set_default_index(0)\n",
    "indices = torch.tensor(vocab.lookup_indices(tokens))\n",
    "print(len(indices))"
   ]
  },
  {
   "cell_type": "markdown",
   "id": "760acedd-89cf-47e8-b144-8c7210600231",
   "metadata": {},
   "source": [
    "## Markov Style"
   ]
  },
  {
   "cell_type": "code",
   "execution_count": 68,
   "id": "94d4665c-da54-4988-8c2f-43eda5bb2a7c",
   "metadata": {},
   "outputs": [],
   "source": [
    "# parameters\n",
    "Lm = 10 # context size\n",
    "Km = 25 # number of epochs"
   ]
  },
  {
   "cell_type": "code",
   "execution_count": 69,
   "id": "dcaf8911-5e6c-4aaa-b10a-06c0e41acbba",
   "metadata": {},
   "outputs": [],
   "source": [
    "# convert to overlapping sequences\n",
    "sequence_markov = torch.stack([indices[i:-Lm+i] for i in range(Lm)]).T\n",
    "outcome_markov = indices[Lm:]\n",
    "dataset_markov = torch.utils.data.TensorDataset(sequence_markov.to(device), outcome_markov.to(device))\n",
    "dataload_markov = torch.utils.data.DataLoader(dataset_markov, batch_size=512)"
   ]
  },
  {
   "cell_type": "code",
   "execution_count": 70,
   "id": "38831a5e-e971-45a6-8e0c-66e05fd64079",
   "metadata": {},
   "outputs": [],
   "source": [
    "# make prediction model\n",
    "class Markov(torch.nn.Module):\n",
    "    def __init__(self, vocab_size, context_size, embedding_dim=32, hidden_size=128):\n",
    "        super().__init__()\n",
    "        self.context_size = context_size\n",
    "        self.embedding_dim = embedding_dim\n",
    "        self.embeddings = torch.nn.Embedding(vocab_size, embedding_dim)\n",
    "        self.linear1 = torch.nn.Linear(context_size*embedding_dim, hidden_size)\n",
    "        self.linear2 = torch.nn.Linear(hidden_size, vocab_size)\n",
    "\n",
    "    def forward(self, inputs):\n",
    "        size = self.context_size*self.embedding_dim\n",
    "        embeds = self.embeddings(inputs).view((-1, size))\n",
    "        out = torch.relu(self.linear1(embeds))\n",
    "        out = self.linear2(out)\n",
    "        log_probs = torch.log_softmax(out, dim=1)\n",
    "        return log_probs"
   ]
  },
  {
   "cell_type": "code",
   "execution_count": 74,
   "id": "99d5f293-7236-42e8-aede-66218857df1e",
   "metadata": {},
   "outputs": [
    {
     "name": "stdout",
     "output_type": "stream",
     "text": [
      "0\n",
      "5\n",
      "10\n",
      "15\n",
      "20\n",
      "24\n"
     ]
    },
    {
     "data": {
      "image/png": "[encoded data removed]",
      "text/plain": [
       "<Figure size 432x288 with 1 Axes>"
      ]
     },
     "metadata": {
      "image/png": {
       "height": 256,
       "width": 386
      },
      "needs_background": "light"
     },
     "output_type": "display_data"
    }
   ],
   "source": [
    "# make model and optimizer\n",
    "model_markov = Markov(len(vocab), Lm, embedding_dim=32, hidden_size=128).to(device)\n",
    "cross = torch.nn.NLLLoss()\n",
    "optim = torch.optim.Adam(model_markov.parameters(), lr=0.01)\n",
    "\n",
    "# track history\n",
    "history = []\n",
    "\n",
    "# go for many iterations\n",
    "for i in range(Km):\n",
    "    if i % 5 == 0 or i == Km - 1:\n",
    "        print(i)\n",
    "\n",
    "    # accumulate stats per batch\n",
    "    nbatch = 0\n",
    "    loss_avg = 0.0\n",
    "\n",
    "    # iterate over batches\n",
    "    for j, (x, y) in enumerate(dataload_markov):\n",
    "        # compute loss\n",
    "        logits = model_markov(x)\n",
    "        loss = cross(logits, y)\n",
    "\n",
    "        # update params\n",
    "        optim.zero_grad()\n",
    "        loss.backward()\n",
    "        optim.step()\n",
    "\n",
    "        # add batch stats\n",
    "        nbatch += 1\n",
    "        loss_avg += loss.detach()\n",
    "\n",
    "    # make it a mean\n",
    "    loss_avg /= nbatch\n",
    "    history.append(loss_avg.item())\n",
    "\n",
    "# turn history into dataframe\n",
    "history = pd.Series(history, name='loss')\n",
    "history.plot();"
   ]
  },
  {
   "cell_type": "code",
   "execution_count": 75,
   "id": "9025971c-213a-4bc3-84d5-d85158e2d429",
   "metadata": {},
   "outputs": [],
   "source": [
    "def predict_markov(prompt, num=1, temp=1.0):\n",
    "    tokens = vectorize_string(prompt, Lm).to(device)\n",
    "    output = torch.tensor([], dtype=torch.int, device=device)\n",
    "    for i in range(num):\n",
    "        log_probs = model_markov(tokens).squeeze()\n",
    "        sel_index = sample_dist(log_probs, temp=temp)\n",
    "        tokens = torch.cat([tokens[1:], sel_index])\n",
    "        output = torch.cat([output, sel_index])\n",
    "    words = vocab.lookup_tokens(output.tolist())\n",
    "    return print_tokens(words)"
   ]
  },
  {
   "cell_type": "code",
   "execution_count": 76,
   "id": "a203a45d-5d80-40e0-ac89-af254abac937",
   "metadata": {},
   "outputs": [
    {
     "name": "stdout",
     "output_type": "stream",
     "text": [
      "ahab walked to the edge of the boat and looked out upon the sea\n",
      "\n",
      "which charge had all others been best there rising by strict to regard some so shiver that to indifference and prudential were he cables rising to unconquerable to feeling for pip confounded the love man heavens went over, doubtless. placed down extreme rising but he dexterously wouldst jaw about the more fowl. canst how when different hair operated into the earthly wonderful were so broadly. away and. cup there pulled them, stand who! me take cold and passenger somewhere like it warming work, , hanging cover these coast he cared at will\n"
     ]
    }
   ],
   "source": [
    "prompt = 'ahab walked to the edge of the boat and looked out upon the sea'\n",
    "print(prompt)\n",
    "print()\n",
    "print(predict_markov(prompt, num=100, temp=2.0))"
   ]
  },
  {
   "cell_type": "markdown",
   "id": "1e74f9a4-8cd7-4b30-be4f-08c3640c2eef",
   "metadata": {},
   "source": [
    "## Word RNN (LSTM)"
   ]
  },
  {
   "cell_type": "code",
   "execution_count": 77,
   "id": "eef26bc3-13e5-4395-a193-573a86efcd1a",
   "metadata": {},
   "outputs": [],
   "source": [
    "# parameters\n",
    "Lr = 10 # context size\n",
    "Kr = 250 # number of epochs\n",
    "Vr = len(vocab) # size of vocab\n",
    "Fr = (len(indices) - 1) // Lr # number of frames\n",
    "Nr = Lr*Fr # trimmed datasize\n",
    "Br = 1024 # batch size"
   ]
  },
  {
   "cell_type": "code",
   "execution_count": 78,
   "id": "b0668db2-93b0-4cc8-9069-76603bb40534",
   "metadata": {},
   "outputs": [],
   "source": [
    "# convert to non-overlapping sequences\n",
    "sequence_rnn = indices[:Nr].view(-1, Lr)\n",
    "outcomes_rnn = indices[1:Nr+1].view(-1, Lr)\n",
    "dataset_rnn = torch.utils.data.TensorDataset(sequence_rnn.to(device), outcomes_rnn.to(device))\n",
    "dataload_rnn = torch.utils.data.DataLoader(dataset_rnn, batch_size=Br, drop_last=True)"
   ]
  },
  {
   "cell_type": "code",
   "execution_count": 79,
   "id": "f2ffe5bf-bfd8-4280-b015-c62be26bd361",
   "metadata": {},
   "outputs": [],
   "source": [
    "# make prediction model — takes [L,N]\n",
    "class WordRNN(torch.nn.Module):\n",
    "    def __init__(self, vocab_size, sequence_len, embedding_dim=32, hidden_size=128):\n",
    "        super().__init__()\n",
    "        self.seqlen = sequence_len\n",
    "        self.embdim = embedding_dim\n",
    "        self.embed = torch.nn.Embedding(vocab_size, embedding_dim)\n",
    "        self.lstm = torch.nn.LSTM(embedding_dim, hidden_size, num_layers=2, batch_first=True)\n",
    "        self.linear = torch.nn.Linear(hidden_size, vocab_size)\n",
    "\n",
    "    def forward(self, inputs, state_in=None):\n",
    "        emb = self.embed(inputs)\n",
    "        out, state_out = self.lstm(emb, state_in)\n",
    "        out = self.linear(out)\n",
    "        log_probs = torch.log_softmax(out, dim=-1)\n",
    "        return log_probs, state_out"
   ]
  },
  {
   "cell_type": "code",
   "execution_count": 80,
   "id": "d58cdd97-209e-4e55-96b1-af1bc862b380",
   "metadata": {},
   "outputs": [
    {
     "name": "stdout",
     "output_type": "stream",
     "text": [
      "0\n",
      "25\n",
      "50\n",
      "75\n",
      "100\n",
      "125\n",
      "150\n",
      "175\n",
      "200\n",
      "225\n",
      "249\n"
     ]
    },
    {
     "data": {
      "image/png": "[encoded data removed]",
      "text/plain": [
       "<Figure size 432x288 with 1 Axes>"
      ]
     },
     "metadata": {
      "image/png": {
       "height": 256,
       "width": 369
      },
      "needs_background": "light"
     },
     "output_type": "display_data"
    }
   ],
   "source": [
    "# make model and optimizer\n",
    "model_rnn = WordRNN(len(vocab), Lr, embedding_dim=32, hidden_size=128).to(device)\n",
    "cross = torch.nn.NLLLoss()\n",
    "optim = torch.optim.Adam(model_rnn.parameters(), lr=0.01)\n",
    "\n",
    "# track history\n",
    "history = []\n",
    "\n",
    "# go for many iterations\n",
    "for i in range(Kr):\n",
    "    if i % 25 == 0 or i == Kr - 1:\n",
    "        print(i)\n",
    "\n",
    "    # accumulate stats per batch\n",
    "    nbatch = 0\n",
    "    loss_avg = 0.0\n",
    "\n",
    "    # iterate over batches\n",
    "    state_rnn = None\n",
    "    for j, (x, y) in enumerate(dataload_rnn):\n",
    "        # compute loss\n",
    "        logits, state_new = model_rnn(x, state_rnn)\n",
    "        loss = cross(logits.view(-1, Vr), y.view(-1))\n",
    "\n",
    "        # update params\n",
    "        optim.zero_grad()\n",
    "        loss.backward()\n",
    "        optim.step()\n",
    "        \n",
    "        # update state\n",
    "        state_rnn = tuple(s.detach() for s in state_new)\n",
    "\n",
    "        # add batch stats\n",
    "        nbatch += 1\n",
    "        loss_avg += loss.detach()\n",
    "\n",
    "    # make it a mean\n",
    "    loss_avg /= nbatch\n",
    "    history.append(loss_avg.item())\n",
    "\n",
    "# turn history into dataframe\n",
    "history = pd.Series(history, name='loss')\n",
    "history.plot();"
   ]
  },
  {
   "cell_type": "code",
   "execution_count": 81,
   "id": "fec06821-e6de-49be-8324-26bf71a51acf",
   "metadata": {},
   "outputs": [],
   "source": [
    "def predict_rnn(prompt, num=1, temp=1.0, state=None):\n",
    "    tokens = vectorize_string(prompt, Lr).to(device)\n",
    "    output = torch.tensor([], dtype=torch.int, device=device)\n",
    "    for i in range(num):\n",
    "        predict, state = model_rnn(tokens, state)\n",
    "        select = sample_dist(predict[0, :], temp=temp)\n",
    "        tokens = torch.cat([tokens[1:], select])\n",
    "        output = torch.cat([output, select])\n",
    "    words = vocab.lookup_tokens(output.tolist())\n",
    "    return print_tokens(words)"
   ]
  },
  {
   "cell_type": "code",
   "execution_count": 82,
   "id": "d24668ef-f4f7-479c-a998-ab52f75724eb",
   "metadata": {},
   "outputs": [
    {
     "name": "stdout",
     "output_type": "stream",
     "text": [
      "ahab walked to the edge of the boat and looked out upon the sea\n",
      "\n",
      "to all sun. no straight at him sperm, you hammer hides now reasons, a! whale's it's must a among fish, timidity here father such poor it, it your, , roared whalemen, black will ambiguous not little by dismal bildad, shouted and it was meant suspended another, . still perhaps found at that here last fowls after, their in, chase the ain't creature! the steelkilt long play that to real all in fedallah hoops the, on this his opinion me thirty or. whale here\n"
     ]
    }
   ],
   "source": [
    "prompt = 'ahab walked to the edge of the boat and looked out upon the sea'\n",
    "print(prompt)\n",
    "print()\n",
    "print(predict_rnn(prompt, num=100, temp=1.5))"
   ]
  },
  {
   "cell_type": "markdown",
   "id": "696aebb3-a78f-4406-9703-057d6b18460e",
   "metadata": {},
   "source": [
    "## Transformer (Encoder)"
   ]
  },
  {
   "cell_type": "code",
   "execution_count": 55,
   "id": "924cf343-7781-46d9-ac66-d8f1cd292b14",
   "metadata": {},
   "outputs": [],
   "source": [
    "# parameters\n",
    "Lt = 50 # context size\n",
    "Kt = 250 # number of epochs\n",
    "Vt = len(vocab) # size of vocab\n",
    "Ft = (len(indices) - 1) // Lt # number of frames\n",
    "Nt = Lt*Ft # trimmed datasize\n",
    "Bt = 256 # batch size"
   ]
  },
  {
   "cell_type": "code",
   "execution_count": 56,
   "id": "b52e0ede-a5c2-44ce-8625-f0b84602dc3e",
   "metadata": {},
   "outputs": [],
   "source": [
    "# convert to non-overlapping sequences\n",
    "sequence_trans = indices[:Nt].view(-1, Lt)\n",
    "outcomes_trans = indices[1:Nt+1].view(-1, Lt)\n",
    "dataset_trans = torch.utils.data.TensorDataset(sequence_trans.to(device), outcomes_trans.to(device))\n",
    "dataload_trans = torch.utils.data.DataLoader(dataset_trans, batch_size=Bt, drop_last=True)"
   ]
  },
  {
   "cell_type": "code",
   "execution_count": 57,
   "id": "738171b1-84b5-4cc3-ba5a-ebb5d46bd529",
   "metadata": {},
   "outputs": [],
   "source": [
    "def gen_mask(sz):\n",
    "    mask = torch.triu(torch.ones(sz, sz, dtype=torch.float)).T\n",
    "    mask = mask.masked_fill(mask == 0, float('-inf'))\n",
    "    mask = mask.masked_fill(mask == 1, float(0.0))\n",
    "    return mask"
   ]
  },
  {
   "cell_type": "code",
   "execution_count": 58,
   "id": "4f300b94-1dda-48bf-bf70-741febb9cff8",
   "metadata": {},
   "outputs": [],
   "source": [
    "# make prediction model — takes [L,N]\n",
    "class Transformer(torch.nn.Module):\n",
    "    def __init__(self, vocab_size, sequence_len, embedding_dim=32, nhead=8, num_layers=3, dropout=0.5):\n",
    "        super().__init__()\n",
    "        self.register_buffer('mask', gen_mask(sequence_len))\n",
    "\n",
    "        self.embed = torch.nn.Embedding(vocab_size, embedding_dim)\n",
    "        trans_layer = torch.nn.TransformerEncoderLayer(\n",
    "            d_model=embedding_dim, nhead=nhead, dropout=0.5, batch_first=True\n",
    "        )\n",
    "        self.transformer = torch.nn.TransformerEncoder(trans_layer, num_layers=num_layers)\n",
    "        self.linear = torch.nn.Linear(embedding_dim, vocab_size)\n",
    "\n",
    "        initrange = 0.1\n",
    "        torch.nn.init.uniform_(self.embed.weight, -initrange, initrange)\n",
    "        torch.nn.init.zeros_(self.linear.bias)\n",
    "        torch.nn.init.uniform_(self.linear.weight, -initrange, initrange)\n",
    "\n",
    "    def forward(self, inputs, mask=True):\n",
    "        mask1 = self.mask if mask else None\n",
    "        emb = self.embed(inputs)\n",
    "        out = self.transformer(emb, mask1)\n",
    "        out = self.linear(out)\n",
    "        log_probs = torch.log_softmax(out, dim=-1)\n",
    "        return log_probs"
   ]
  },
  {
   "cell_type": "code",
   "execution_count": 59,
   "id": "788bdf6c-20a7-486d-97a9-baad1109e174",
   "metadata": {},
   "outputs": [
    {
     "name": "stdout",
     "output_type": "stream",
     "text": [
      "0 7.783812046051025\n",
      "25 3.98710036277771\n",
      "50 3.1399741172790527\n",
      "75 2.6021347045898438\n",
      "100 2.286827802658081\n",
      "125 2.0780441761016846\n",
      "150 1.9342894554138184\n",
      "175 1.8227990865707397\n",
      "200 1.7397348880767822\n",
      "225 1.6649627685546875\n",
      "249 1.6000314950942993\n"
     ]
    },
    {
     "data": {
      "image/png": "[encoded data removed]",
      "text/plain": [
       "<Figure size 432x288 with 1 Axes>"
      ]
     },
     "metadata": {
      "image/png": {
       "height": 258,
       "width": 369
      },
      "needs_background": "light"
     },
     "output_type": "display_data"
    }
   ],
   "source": [
    "# make model and optimizer\n",
    "model_trans = Transformer(len(vocab), Lt, embedding_dim=128, nhead=8, num_layers=3, dropout=0.5)\n",
    "model_trans = model_trans.to(device).train()\n",
    "cross = torch.nn.NLLLoss()\n",
    "optim = torch.optim.Adam(model_trans.parameters(), lr=0.001)\n",
    "\n",
    "# track history\n",
    "history = []\n",
    "\n",
    "# go for many iterations\n",
    "for i in range(Kt):\n",
    "    # accumulate stats per batch\n",
    "    nbatch = 0\n",
    "    loss_avg = 0.0\n",
    "\n",
    "    # iterate over batches\n",
    "    for j, (x, y) in enumerate(dataload_trans):\n",
    "        # compute loss\n",
    "        logits = model_trans(x, mask=True)\n",
    "        loss = cross(logits.view(-1, Vt), y.view(-1))\n",
    "\n",
    "        # update params\n",
    "        optim.zero_grad()\n",
    "        loss.backward()\n",
    "        optim.step()\n",
    "\n",
    "        # add batch stats\n",
    "        nbatch += 1\n",
    "        loss_avg += loss.detach()\n",
    "\n",
    "    # make it a mean\n",
    "    loss_avg /= nbatch\n",
    "    history.append(loss_avg.item())\n",
    "\n",
    "    # output info\n",
    "    if i % 25 == 0 or i == Kt- 1:\n",
    "        print(i, loss_avg.item())\n",
    "\n",
    "# set model to eval mode\n",
    "model_trans.eval()\n",
    "        \n",
    "# turn history into dataframe\n",
    "history = pd.Series(history, name='loss')\n",
    "history.plot();"
   ]
  },
  {
   "cell_type": "code",
   "execution_count": 61,
   "id": "d07ad246-e725-4ed6-af72-370d5729d0e6",
   "metadata": {},
   "outputs": [],
   "source": [
    "def predict_trans(prompt, num=1, temp=1.0, state=None):\n",
    "    tokens = vectorize_string(prompt, Lt).to(device)\n",
    "    output = torch.tensor([], dtype=torch.int, device=device)\n",
    "    for i in range(num):\n",
    "        predict = model_trans(tokens, mask=True)\n",
    "        select = sample_dist(predict[-1, :], temp=temp)\n",
    "        tokens = torch.cat([tokens[1:], select])\n",
    "        output = torch.cat([output, select])\n",
    "    words = vocab.lookup_tokens(output.tolist())\n",
    "    return print_tokens(words)"
   ]
  },
  {
   "cell_type": "code",
   "execution_count": 67,
   "id": "4ed60ff0-9bd3-44e8-831b-a7e5cf130ad8",
   "metadata": {},
   "outputs": [
    {
     "name": "stdout",
     "output_type": "stream",
     "text": [
      "ahab walked to the edge of the boat and looked out upon the sea and spotted the dreaded whale\n",
      "\n",
      ", soul beneath a sight. o three seas, regarded far beyond the pequod? , indeed it bears out upon a city grave driver is the proud as hope. to look for him i cannot go forth among her crew, and to have been spouting thick in seamen, and white done everywhere lurking in the opening, when ye have been dropping and white whale ?\n",
      "\n",
      "as to have to which through their heads, through the antarctic but it your knife to moby dick, and, that we glided round, considering the waves in their round at one tragic spot where so familiar with the upper sun !\n",
      "\n",
      "the maternal heedful management of the while the talking from the boat there in all over the captain ahab, and whaling craft did this bit of other end of whales have not something down the rigging or boat both sides of up the scene. *\n",
      "\n",
      "\" well with mortal flask, or four boats and seamen and indian sailors called if timidity, god is used again said i say this bread, it came bearing on simultaneously\n"
     ]
    }
   ],
   "source": [
    "prompt = 'ahab walked to the edge of the boat and looked out upon the sea and spotted the dreaded whale'\n",
    "print(prompt)\n",
    "print()\n",
    "print(predict_trans(prompt, num=200, temp=1.5))"
   ]
  },
  {
   "cell_type": "code",
   "execution_count": null,
   "id": "5616678a-7521-49ae-9d2d-4aa88136520a",
   "metadata": {},
   "outputs": [],
   "source": []
  }
 ],
 "metadata": {
  "kernelspec": {
   "display_name": "Python 3.9",
   "language": "python",
   "name": "python3.9"
  },
  "language_info": {
   "codemirror_mode": {
    "name": "ipython",
    "version": 3
   },
   "file_extension": ".py",
   "mimetype": "text/x-python",
   "name": "python",
   "nbconvert_exporter": "python",
   "pygments_lexer": "ipython3",
   "version": "3.9.10"
  }
 },
 "nbformat": 4,
 "nbformat_minor": 5
}
